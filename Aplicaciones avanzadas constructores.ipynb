{
 "cells": [
  {
   "cell_type": "markdown",
   "id": "666687a2-8fdd-4ffc-9ac1-03efaae727c8",
   "metadata": {},
   "source": [
    "Contructor predeterminado: El Constructor predeterminado es un constructor simple que no acepta ningun argumento.\n",
    "su definicion tiene solo un argumento que es una referencia a la instancia que se esta construyendo."
   ]
  },
  {
   "cell_type": "code",
   "execution_count": 2,
   "id": "7a3c2fbe-fa59-46ac-9869-38eda6babace",
   "metadata": {},
   "outputs": [
    {
     "name": "stdout",
     "output_type": "stream",
     "text": [
      "Sesion experta\n"
     ]
    }
   ],
   "source": [
    "class Expertos:\n",
    "    def __init__(self):\n",
    "        self.texto = \"Sesion experta\"\n",
    "\n",
    "    def imprime_texto(self):\n",
    "        print(self.texto)\n",
    "\n",
    "elemento = Expertos()\n",
    "elemento.imprime_texto()"
   ]
  },
  {
   "cell_type": "markdown",
   "id": "d5cf0bf8-265b-4583-8539-ee364d0c75bd",
   "metadata": {},
   "source": [
    "Constructor Parametrizado: es aquel constructor con parametros que toma su primer argumento como una referencia a la instancia que se esta construyendo\n",
    "conocida como self y el resto de los argumentos son proporcionados por el programador "
   ]
  },
  {
   "cell_type": "code",
   "execution_count": 14,
   "id": "ece89c11-88be-4923-9a10-4c8a0f3eb95a",
   "metadata": {},
   "outputs": [],
   "source": [
    "class Adicion:\n",
    "    respuesta = 0 \n",
    "\n",
    "    def __init__(self, primero, segundo):\n",
    "        self.primero = primero\n",
    "        self.segundo = segundo \n",
    "\n",
    "    def calcula(self):\n",
    "        self.respuesta = self.primero + self.segundo\n",
    "\n",
    "    def mostrar(self):\n",
    "        print(\"Primer numero = \" + str(self.primero))\n",
    "        print(\"Segundo numero = \" + str(self.segundo))\n",
    "        print(\"Adicion de dos numeros = \" + str(self.respuesta))"
   ]
  },
  {
   "cell_type": "code",
   "execution_count": 16,
   "id": "273e814c-c093-42af-963d-b8cf2259c809",
   "metadata": {},
   "outputs": [
    {
     "name": "stdout",
     "output_type": "stream",
     "text": [
      "Primer numero = 1000\n",
      "Segundo numero = 2000\n",
      "Adicion de dos numeros = 3000\n"
     ]
    }
   ],
   "source": [
    "obj = Adicion(1000,2000)\n",
    "obj.calcula()\n",
    "obj.mostrar()"
   ]
  },
  {
   "cell_type": "markdown",
   "id": "76c81c8b-7034-4517-95af-a495a5b8ca98",
   "metadata": {},
   "source": [
    "### HERENCIAS"
   ]
  },
  {
   "cell_type": "markdown",
   "id": "1a4479f5-05ff-4048-afba-495636b0d6fb",
   "metadata": {},
   "source": [
    "##### Herencia Simple: La Herencia Simple tiene lugar cuando una clase hija hereda los atributos y metodos de una unica clase padre."
   ]
  },
  {
   "cell_type": "code",
   "execution_count": 25,
   "id": "e43340cd-10ab-4d14-82ee-79cee4d51e60",
   "metadata": {},
   "outputs": [
    {
     "name": "stdout",
     "output_type": "stream",
     "text": [
      "Soy Manuel Gomez tengo 26 años y estudio Derecho\n"
     ]
    }
   ],
   "source": [
    "# Ejemplo de Herencia Simple\n",
    "class Estudiante(object):                  # Clase \"Padre\"\n",
    "    def __init__(self, edad, nombre):\n",
    "        self.edad = edad\n",
    "        self.nombre = nombre\n",
    "\n",
    "class Derecho(Estudiante):                #Clase \"Hija\"\n",
    "    def presentarse(self):\n",
    "        print(f\"Soy {self.nombre} tengo {self.edad} años y estudio Derecho\")\n",
    "\n",
    "Manuel = Derecho(26, \"Manuel Gomez\")\n",
    "Manuel.presentarse()"
   ]
  },
  {
   "cell_type": "markdown",
   "id": "9d1e13f1-82f1-49df-bcad-d54a75aff807",
   "metadata": {},
   "source": [
    "##### Herencia Multiple: Se dan cuando una clase secundaria o hija hereda atributos y metodos de mas de una clase principal o padre.\n",
    "##### basta con separar con una coma ambas clases principales a la hora de crear la clase secundaria:"
   ]
  },
  {
   "cell_type": "code",
   "execution_count": 30,
   "id": "1096c3f1-a49f-4588-aedf-5eaadde5d7fa",
   "metadata": {},
   "outputs": [
    {
     "name": "stdout",
     "output_type": "stream",
     "text": [
      "Soy Manuel Contreras tengo 26 años y estudio Derecho\n",
      "Estudio en el Instituto de Leyes\n"
     ]
    }
   ],
   "source": [
    "# Ejemplo de Herencia Multiple\n",
    "class Estudiante(object):                  # Clase \"Padre\" No. 1 \n",
    "    def __init__(self, edad, nombre):\n",
    "        self.edad = edad\n",
    "        self.nombre = nombre\n",
    "\n",
    "class Instituto(object):                  # Clase \"Padre\" No. 2 \n",
    "    def presentarinstituto(self):\n",
    "        print(\"Estudio en el Instituto de Leyes\")\n",
    "\n",
    "class Derecho(Estudiante, Instituto):     # Clase \"Hija\"\n",
    "    def presentarse(self):\n",
    "        print(f\"Soy {self.nombre} tengo {self.edad} años y estudio Derecho\")\n",
    "\n",
    "Manuel = Derecho(26, \"Manuel Contreras\")\n",
    "Manuel.presentarse()\n",
    "Manuel.presentarinstituto()"
   ]
  },
  {
   "cell_type": "markdown",
   "id": "b3323743-6915-435f-93d0-653b16967abe",
   "metadata": {},
   "source": [
    "#### Ejercicio final"
   ]
  },
  {
   "cell_type": "markdown",
   "id": "41aad17e-d296-4c52-8a63-afb68550acc2",
   "metadata": {},
   "source": [
    "##### Defina una clase padre denominada \"Figura\" A partir de ella desarrolle dos clases hijas, denominadas \"Circulo\" y \"Triangulo\", \n",
    "##### las cuales deben ser capaces de calcular el area en cada caso a partir de parametros requeridos por cada figura \n",
    "##### (para el circulo se requiere el radio, para el triangulo la base y su altura).\n",
    "##### Al final pruebe que funcionan adecuadamente los datos hipoteticos"
   ]
  },
  {
   "cell_type": "code",
   "execution_count": 45,
   "id": "6e3387f6-a6eb-4e8c-a99a-a2a385f78406",
   "metadata": {},
   "outputs": [],
   "source": [
    "class Figura(object):\n",
    "    def area(self):\n",
    "        pass\n",
    "\n",
    "class Circulo(Figura):\n",
    "    \"\"\"\" Objeto de tipo Circulo \"\"\"\n",
    "    def __init__(self,radio=0):\n",
    "        self.radio = radio\n",
    "\n",
    "    def area(self):\n",
    "        return 3.1416 * (self.radio ** 2)\n",
    "\n",
    "class Triangulo(Figura):\n",
    "    \"\"\"\" Objeto de tipo Triangulo \"\"\"\n",
    "    def __init__(self, base=0, altura=0):\n",
    "        self.base = base\n",
    "        self.altura = altura\n",
    "\n",
    "    def area(self):\n",
    "        return self.base * self.altura / 2\n"
   ]
  },
  {
   "cell_type": "code",
   "execution_count": 41,
   "id": "a9323859-a9ef-432f-ae36-0356321fee43",
   "metadata": {},
   "outputs": [
    {
     "data": {
      "text/plain": [
       "50.2656"
      ]
     },
     "execution_count": 41,
     "metadata": {},
     "output_type": "execute_result"
    }
   ],
   "source": [
    "c = Circulo(4)\n",
    "c.area()"
   ]
  },
  {
   "cell_type": "code",
   "execution_count": 43,
   "id": "aa004570-e033-4988-b563-ac1b01d623bd",
   "metadata": {},
   "outputs": [
    {
     "data": {
      "text/plain": [
       "7.5"
      ]
     },
     "execution_count": 43,
     "metadata": {},
     "output_type": "execute_result"
    }
   ],
   "source": [
    "t = Triangulo(3,5)\n",
    "t.area()"
   ]
  },
  {
   "cell_type": "code",
   "execution_count": null,
   "id": "8577602a-cf2f-484a-9ce2-edb3a70b1383",
   "metadata": {},
   "outputs": [],
   "source": []
  }
 ],
 "metadata": {
  "kernelspec": {
   "display_name": "Python 3 (ipykernel)",
   "language": "python",
   "name": "python3"
  },
  "language_info": {
   "codemirror_mode": {
    "name": "ipython",
    "version": 3
   },
   "file_extension": ".py",
   "mimetype": "text/x-python",
   "name": "python",
   "nbconvert_exporter": "python",
   "pygments_lexer": "ipython3",
   "version": "3.12.7"
  }
 },
 "nbformat": 4,
 "nbformat_minor": 5
}
