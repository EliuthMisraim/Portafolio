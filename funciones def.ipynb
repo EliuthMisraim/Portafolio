{
 "cells": [
  {
   "cell_type": "markdown",
   "id": "efdaa1d1-5584-4ae7-912d-1f10a9330ad9",
   "metadata": {},
   "source": [
    "#### asignacion de funciones con la funcion def"
   ]
  },
  {
   "cell_type": "code",
   "execution_count": 4,
   "id": "01539ce6-a873-4eea-b784-d87ab534af39",
   "metadata": {},
   "outputs": [
    {
     "name": "stdout",
     "output_type": "stream",
     "text": [
      "hola\n"
     ]
    }
   ],
   "source": [
    "def saludo():\n",
    "    print(\"hola\")\n",
    "\n",
    "saludo()"
   ]
  },
  {
   "cell_type": "markdown",
   "id": "4d226010-f59a-423a-8176-01bc63a42d07",
   "metadata": {},
   "source": [
    "#### en la practica generalmente se utilizan argumentos o parametros para definir una funcion "
   ]
  },
  {
   "cell_type": "code",
   "execution_count": 10,
   "id": "d68f6bf1-d943-41f8-88aa-8c6538905710",
   "metadata": {},
   "outputs": [
    {
     "name": "stdout",
     "output_type": "stream",
     "text": [
      "Hola Juan\n"
     ]
    }
   ],
   "source": [
    "def saludo_nombre(nombre):\n",
    "    print(\"Hola \" + nombre)\n",
    "\n",
    "saludo_nombre(\"Juan\")"
   ]
  },
  {
   "cell_type": "markdown",
   "id": "10ad5e7c-65b7-439c-8127-912a8b3ab5f0",
   "metadata": {},
   "source": [
    "#### las funciones generalmente suelen ser mas sofisticadas se puede utilizar para calculos mas complejos por ejemplo el area de un circulo"
   ]
  },
  {
   "cell_type": "code",
   "execution_count": 12,
   "id": "4042eeaa-578e-4e7d-a92b-53ab967c717b",
   "metadata": {},
   "outputs": [
    {
     "name": "stdout",
     "output_type": "stream",
     "text": [
      "12.5664\n"
     ]
    }
   ],
   "source": [
    "# Area de un Circulo\n",
    "def area_circulo(radio):\n",
    "    area = 3.1416 * radio ** 2\n",
    "    return area \n",
    "\n",
    "mi_area = area_circulo(2)\n",
    "print(mi_area)"
   ]
  },
  {
   "cell_type": "markdown",
   "id": "76e86e73-aebb-4658-baae-4e2e93ad55ca",
   "metadata": {},
   "source": [
    "#### se pueden utilizar multiples parametros en el siguiente ejemplo manejamos 2 parametros para calcular el producto de ambos "
   ]
  },
  {
   "cell_type": "code",
   "execution_count": 22,
   "id": "bd410415-224b-4d55-bb5e-7bf127892917",
   "metadata": {},
   "outputs": [
    {
     "data": {
      "text/plain": [
       "8"
      ]
     },
     "execution_count": 22,
     "metadata": {},
     "output_type": "execute_result"
    }
   ],
   "source": [
    "def producto(x1, x2):\n",
    "    return x1 * x2\n",
    "\n",
    "producto(2,4)"
   ]
  },
  {
   "cell_type": "markdown",
   "id": "31fd3e06-3bb7-46c8-b142-411c3ab191a4",
   "metadata": {},
   "source": [
    "#### se pueden asignar resultados a otras variables"
   ]
  },
  {
   "cell_type": "code",
   "execution_count": 27,
   "id": "7554e6f9-4371-4cdf-9242-7f853a42984c",
   "metadata": {},
   "outputs": [
    {
     "name": "stdout",
     "output_type": "stream",
     "text": [
      "5\n"
     ]
    }
   ],
   "source": [
    "# Funcion con valores predeterminados \n",
    "def suma(a, b=3):\n",
    "    return a + b \n",
    "    #se puede utilizar el 4 u omitir y se va a utilizar el valor predeterminado de b\n",
    "resultado = suma(2, 4)\n",
    "print(resultado)"
   ]
  },
  {
   "cell_type": "markdown",
   "id": "cea5b909-2780-4fbe-bcc6-50c5aa0782ff",
   "metadata": {},
   "source": [
    "#### Siempre que definamos variables para una funcion esa variable solo existe para el ambito de esa funcion"
   ]
  },
  {
   "cell_type": "code",
   "execution_count": 33,
   "id": "84657246-bbb2-4e27-a683-2c839c6c4b53",
   "metadata": {},
   "outputs": [
    {
     "ename": "NameError",
     "evalue": "name 'x' is not defined",
     "output_type": "error",
     "traceback": [
      "\u001b[1;31m---------------------------------------------------------------------------\u001b[0m",
      "\u001b[1;31mNameError\u001b[0m                                 Traceback (most recent call last)",
      "Cell \u001b[1;32mIn[33], line 6\u001b[0m\n\u001b[0;32m      3\u001b[0m     x \u001b[38;5;241m=\u001b[39m numero \u001b[38;5;241m*\u001b[39m \u001b[38;5;241m2\u001b[39m\n\u001b[0;32m      4\u001b[0m     \u001b[38;5;28;01mreturn\u001b[39;00m x\n\u001b[1;32m----> 6\u001b[0m \u001b[38;5;28mprint\u001b[39m(x)\n",
      "\u001b[1;31mNameError\u001b[0m: name 'x' is not defined"
     ]
    }
   ],
   "source": [
    "#ejemplo definir una rutina que se encarga de duplicar el valor de un numero\n",
    "def duplica(numero):\n",
    "    x = numero * 2\n",
    "    return x\n",
    "\n",
    "print(x)\n",
    "#este mensaje de error se deriva del hecho de que la variable x solamente existe en el ambito de la funcion,\n",
    "# es decir no la puedo llamar como otra variable sino depende enteramente del valor de la funcion "
   ]
  },
  {
   "cell_type": "markdown",
   "id": "510d123e-c2cc-4577-a2b6-c4bc93b82083",
   "metadata": {},
   "source": [
    "#### la x se utilizo para calcular el doble del numero y una vez utilizada se desecha "
   ]
  },
  {
   "cell_type": "code",
   "execution_count": 35,
   "id": "4de4b520-32ba-416b-abe5-d08d62b38590",
   "metadata": {},
   "outputs": [
    {
     "name": "stdout",
     "output_type": "stream",
     "text": [
      "20\n"
     ]
    }
   ],
   "source": [
    "def duplica(numero):\n",
    "    x = numero * 2\n",
    "    return x\n",
    "\n",
    "print(duplica(10))"
   ]
  },
  {
   "cell_type": "code",
   "execution_count": 40,
   "id": "de60dea2-7f53-4a63-8d31-d576973f465e",
   "metadata": {},
   "outputs": [
    {
     "ename": "NameError",
     "evalue": "name 'x' is not defined",
     "output_type": "error",
     "traceback": [
      "\u001b[1;31m---------------------------------------------------------------------------\u001b[0m",
      "\u001b[1;31mNameError\u001b[0m                                 Traceback (most recent call last)",
      "Cell \u001b[1;32mIn[40], line 1\u001b[0m\n\u001b[1;32m----> 1\u001b[0m x\n",
      "\u001b[1;31mNameError\u001b[0m: name 'x' is not defined"
     ]
    }
   ],
   "source": [
    "#es por eso que al volver a llamar a la variable x no existe pues ya fue utilizada \n",
    "x"
   ]
  },
  {
   "cell_type": "markdown",
   "id": "21f9de9c-1d92-4d0f-a8b3-0a9c93ea03f4",
   "metadata": {},
   "source": [
    "#### ejemplo de que en la practica no sabemos cuantos elementos vamos a capturar"
   ]
  },
  {
   "cell_type": "code",
   "execution_count": 43,
   "id": "946b16dd-21e7-4b04-b053-06a7f03a0abe",
   "metadata": {},
   "outputs": [
    {
     "name": "stdout",
     "output_type": "stream",
     "text": [
      "mi mejor amigo es Linus\n"
     ]
    }
   ],
   "source": [
    "# al utilizar el signo asterisco * antes de la variable en la funcion hace que python \n",
    "# entienda que el numero de argumentos puede ser una cantidad variable  \n",
    "def mi_funcion(*amigos):\n",
    "    print(\"mi mejor amigo es \" + amigos[2])\n",
    "\n",
    "mi_funcion(\"Pedro\", \"Jose\", \"Linus\", \"Juan\")"
   ]
  },
  {
   "cell_type": "markdown",
   "id": "1aaac046-3451-4244-a30d-cc16ee3b4336",
   "metadata": {},
   "source": [
    "#### que pasa si el orden de los componentes es diferente? se puede especificar y  el orden no necesariamente seria una limitante"
   ]
  },
  {
   "cell_type": "code",
   "execution_count": 46,
   "id": "cedd0b7a-dfa6-4b6b-bbcd-1d54ffbdcd40",
   "metadata": {},
   "outputs": [
    {
     "name": "stdout",
     "output_type": "stream",
     "text": [
      "El nino mas joven es Emil\n"
     ]
    }
   ],
   "source": [
    "def chicos(chico1, chico2, chico3):\n",
    "    print(\"El nino mas joven es \" + chico3)\n",
    "#el hecho de anteceder a cada nombre por la referencia correspondiente en la funcion permite \n",
    "# que pueda seguir imprimiendo que el nino mas joven es  el chico3 \n",
    "chicos(chico3 = \"Emil\", chico1 = \"Tobias\", chico2 = \"Armando\")"
   ]
  },
  {
   "cell_type": "markdown",
   "id": "e914acb6-1bbb-4d82-8449-3c93e4756ec7",
   "metadata": {},
   "source": [
    "#### en algunas ocaciones las funciones puden servir donde el parametro esta conformado por varios componentes de manera similar a un diccionario"
   ]
  },
  {
   "cell_type": "code",
   "execution_count": 49,
   "id": "20c412fd-42f3-4b8d-aeae-78c85bfe9615",
   "metadata": {},
   "outputs": [
    {
     "name": "stdout",
     "output_type": "stream",
     "text": [
      "El apellido es Suarez\n"
     ]
    }
   ],
   "source": [
    "# el doble asterisco sirve para hacer referencia a la variable que vamos a capturar\n",
    "# el doble asterisco ** implica que vamos a utilizar una especie de diccionario pero a traves de funciones\n",
    "def apellido(**chico):\n",
    "    print(\"El apellido es \" + chico[\"apellido\"])\n",
    "# al utilizar el doble asterisco en la variable de la funcion apellido permite que pueda asignar multiples datos sin limite\n",
    "apellido(npila = \"Juan\", apellido = \"Suarez\", edad = 15)"
   ]
  },
  {
   "cell_type": "markdown",
   "id": "5992e32b-bdd7-46eb-93d1-32fd0e44bafd",
   "metadata": {},
   "source": [
    "#### parametros por default"
   ]
  },
  {
   "cell_type": "code",
   "execution_count": 52,
   "id": "bafe3112-f418-4a88-8bee-b253a7eb3ef2",
   "metadata": {},
   "outputs": [
    {
     "name": "stdout",
     "output_type": "stream",
     "text": [
      "Soy de Argentina\n",
      "Soy de Mexico\n"
     ]
    }
   ],
   "source": [
    "def pais(country = \"Mexico\"):\n",
    "    print(\"Soy de \" + country)\n",
    "\n",
    "pais(\"Argentina\")\n",
    "pais()"
   ]
  },
  {
   "cell_type": "markdown",
   "id": "e96eb3c7-e620-43f1-93e7-39454b599c92",
   "metadata": {},
   "source": [
    "#### instruccion pass equivale a no hacer absolutamente nada"
   ]
  },
  {
   "cell_type": "code",
   "execution_count": 59,
   "id": "6f551ef6-aea2-4411-869a-065205a637d6",
   "metadata": {},
   "outputs": [],
   "source": [
    "def funcion():\n",
    "    pass\n",
    "\n",
    "funcion()"
   ]
  },
  {
   "cell_type": "markdown",
   "id": "c7ccb69f-2dff-42cb-8bdd-133073205d58",
   "metadata": {},
   "source": [
    "#### Pase de listas en las funciones"
   ]
  },
  {
   "cell_type": "code",
   "execution_count": 62,
   "id": "076889d0-356d-4d01-a59d-c7199e29378c",
   "metadata": {},
   "outputs": [
    {
     "name": "stdout",
     "output_type": "stream",
     "text": [
      "manzana\n",
      "fresa\n",
      "sandia\n"
     ]
    }
   ],
   "source": [
    "def lista_comida(comida):\n",
    "    for x in comida :\n",
    "        print(x)\n",
    "\n",
    "frutas = ['manzana', 'fresa', 'sandia']\n",
    "lista_comida(frutas)"
   ]
  },
  {
   "cell_type": "code",
   "execution_count": 64,
   "id": "f1787278-9546-4757-9590-622be3c79729",
   "metadata": {},
   "outputs": [
    {
     "name": "stdout",
     "output_type": "stream",
     "text": [
      "[2, 4]\n"
     ]
    }
   ],
   "source": [
    "numeros = [1, 2, 3, 4, 5]\n",
    "\n",
    "pares = list(filter(lambda x: x % 2 == 0, numeros))\n",
    "\n",
    "print(pares)  # Resultado: [2, 4]"
   ]
  },
  {
   "cell_type": "code",
   "execution_count": null,
   "id": "ce572f73-7867-42be-aa75-37e472e2d877",
   "metadata": {},
   "outputs": [],
   "source": []
  }
 ],
 "metadata": {
  "kernelspec": {
   "display_name": "Python 3 (ipykernel)",
   "language": "python",
   "name": "python3"
  },
  "language_info": {
   "codemirror_mode": {
    "name": "ipython",
    "version": 3
   },
   "file_extension": ".py",
   "mimetype": "text/x-python",
   "name": "python",
   "nbconvert_exporter": "python",
   "pygments_lexer": "ipython3",
   "version": "3.12.7"
  }
 },
 "nbformat": 4,
 "nbformat_minor": 5
}
