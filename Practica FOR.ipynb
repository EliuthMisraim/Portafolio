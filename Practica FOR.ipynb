{
 "cells": [
  {
   "cell_type": "code",
   "execution_count": 2,
   "id": "117efc66-ceba-417e-931d-3010f054e161",
   "metadata": {},
   "outputs": [
    {
     "name": "stdout",
     "output_type": "stream",
     "text": [
      "Numero mas grande:  74\n"
     ]
    }
   ],
   "source": [
    "mas_grande = -1 \n",
    "for numero in [9, 41, 12, 3, 74, 15]:\n",
    "    if numero > mas_grande:\n",
    "        mas_grande = numero\n",
    "print(\"Numero mas grande: \", mas_grande)"
   ]
  },
  {
   "cell_type": "markdown",
   "id": "01847185-ddec-4275-a650-53fc7f3fcb18",
   "metadata": {},
   "source": [
    "queremos checar que fruta hay ahi y cuando en el momento que la fruta sea la fresa termine el ciclo "
   ]
  },
  {
   "cell_type": "code",
   "execution_count": 9,
   "id": "82bb9146-05e5-44ae-8c3b-e3d586389386",
   "metadata": {},
   "outputs": [
    {
     "name": "stdout",
     "output_type": "stream",
     "text": [
      "manzana\n",
      "fresa\n"
     ]
    }
   ],
   "source": [
    "frutas = ['manzana', 'fresa', 'cereza']\n",
    "for fruta in frutas:\n",
    "    print(fruta)\n",
    "    if fruta == \"fresa\":\n",
    "        break"
   ]
  },
  {
   "cell_type": "markdown",
   "id": "dba6e35c-9404-42e6-baa3-213d566d5415",
   "metadata": {},
   "source": [
    "ejercicio 2 manejo de pasos repetidos for con el uso de diccionarios"
   ]
  },
  {
   "cell_type": "code",
   "execution_count": 26,
   "id": "5e98aeda-3559-4b97-9497-ef62eca342a2",
   "metadata": {},
   "outputs": [
    {
     "name": "stdin",
     "output_type": "stream",
     "text": [
      "Nombre del estudiante:  Angela\n"
     ]
    },
    {
     "name": "stdout",
     "output_type": "stream",
     "text": [
      "Calificacion:  92\n"
     ]
    }
   ],
   "source": [
    "nombre = input(\"Nombre del estudiante: \")\n",
    "datos = {'Jose': 85, \"Angela\": 92, \"Miguel\": 75, 'Ana': 98}\n",
    "\n",
    "for estudiante in datos: \n",
    "    if estudiante == nombre:\n",
    "        print(\"Calificacion: \", datos[estudiante])\n",
    "        break\n",
    "else:\n",
    "    print(\"No se encontro al estudiante solicitado\")"
   ]
  },
  {
   "cell_type": "markdown",
   "id": "73896964-9749-4f95-b608-56c46728e6be",
   "metadata": {},
   "source": [
    "Ciclos anidados un for dentro de otro for para crear todas las combinaciones posibles de dos listas"
   ]
  },
  {
   "cell_type": "code",
   "execution_count": 29,
   "id": "dc28d66f-8f2f-4917-b132-6898b4b3ca1d",
   "metadata": {},
   "outputs": [
    {
     "name": "stdout",
     "output_type": "stream",
     "text": [
      "manzana roja\n",
      "manzana grande\n",
      "manzana deliciosa\n",
      "fresa roja\n",
      "fresa grande\n",
      "fresa deliciosa\n",
      "cereza roja\n",
      "cereza grande\n",
      "cereza deliciosa\n"
     ]
    }
   ],
   "source": [
    "frutas = ['manzana', 'fresa', 'cereza']\n",
    "adjetivos = ['roja', 'grande', 'deliciosa']\n",
    "\n",
    "for fruta in frutas:\n",
    "    for tipo in adjetivos:\n",
    "        print(fruta, tipo)"
   ]
  },
  {
   "cell_type": "markdown",
   "id": "697269c2-4256-4c3a-b304-6c0f33e5bb3d",
   "metadata": {},
   "source": [
    "se pueden utilizar funciones especiales en los ciclos"
   ]
  },
  {
   "cell_type": "code",
   "execution_count": 32,
   "id": "f4778c33-91cd-41f3-9423-e6434a162abe",
   "metadata": {},
   "outputs": [
    {
     "name": "stdout",
     "output_type": "stream",
     "text": [
      "40\n",
      "30\n",
      "20\n",
      "10\n"
     ]
    }
   ],
   "source": [
    "lista = [10, 20, 30, 40]\n",
    "for numero in reversed(lista):\n",
    "    print(numero)"
   ]
  },
  {
   "cell_type": "markdown",
   "id": "8a5dbc74-652b-4198-8d00-71f8a58fa9f6",
   "metadata": {},
   "source": [
    "Ejercicio 3 tablas de multiplicar "
   ]
  },
  {
   "cell_type": "code",
   "execution_count": 34,
   "id": "829f720c-1094-4e97-8382-02bae46580fe",
   "metadata": {},
   "outputs": [
    {
     "name": "stdin",
     "output_type": "stream",
     "text": [
      "# de tablas a calcular 5\n"
     ]
    },
    {
     "name": "stdout",
     "output_type": "stream",
     "text": [
      "Tabla de multiplicar del:  1\n",
      "1 2 3 4 5 6 7 8 9 10 \n",
      "\n",
      "Tabla de multiplicar del:  2\n",
      "2 4 6 8 10 12 14 16 18 20 \n",
      "\n",
      "Tabla de multiplicar del:  3\n",
      "3 6 9 12 15 18 21 24 27 30 \n",
      "\n",
      "Tabla de multiplicar del:  4\n",
      "4 8 12 16 20 24 28 32 36 40 \n",
      "\n",
      "Tabla de multiplicar del:  5\n",
      "5 10 15 20 25 30 35 40 45 50 \n",
      "\n"
     ]
    }
   ],
   "source": [
    "tablas = int(input(\"# de tablas a calcular\"))\n",
    "\n",
    "for i in range(1, tablas + 1):\n",
    "    print(\"Tabla de multiplicar del: \", i)\n",
    "    contador = 1\n",
    "    while contador < 11:\n",
    "        print(i * contador, end = ' ')\n",
    "        contador += 1 \n",
    "    print(\"\\n\")\n",
    "        "
   ]
  },
  {
   "cell_type": "markdown",
   "id": "2b21713c-c2c1-4543-ba1b-ffd14d9f60ab",
   "metadata": {},
   "source": [
    "## ejercicios extra"
   ]
  },
  {
   "cell_type": "markdown",
   "id": "b5579d32-6b5d-434a-bc4d-e90f5bf0a576",
   "metadata": {},
   "source": [
    "### Modificar datos en una lista\n",
    "\n",
    "Supongamos que tienes una lista de números y quieres multiplicar cada número por 2:"
   ]
  },
  {
   "cell_type": "code",
   "execution_count": 41,
   "id": "d84615a9-6d77-4f14-b7ed-0b84683c2b49",
   "metadata": {},
   "outputs": [
    {
     "name": "stdout",
     "output_type": "stream",
     "text": [
      "[2, 4, 6, 8, 10]\n"
     ]
    }
   ],
   "source": [
    "numeros = [1, 2, 3, 4, 5]\n",
    "modificados = [x * 2 for x in numeros]\n",
    "print (modificados)"
   ]
  },
  {
   "cell_type": "markdown",
   "id": "7001f324-cab3-4517-813b-65ce4949af64",
   "metadata": {},
   "source": [
    "### Filtrar datos en una lista\n",
    "\n",
    "Ahora, supongamos que quieres filtrar la lista para obtener solo los números que son mayores que 2:"
   ]
  },
  {
   "cell_type": "code",
   "execution_count": 46,
   "id": "eaf4a273-1e9f-4e5d-a07f-d31a4e101be7",
   "metadata": {},
   "outputs": [
    {
     "name": "stdout",
     "output_type": "stream",
     "text": [
      "[3, 4, 5]\n"
     ]
    }
   ],
   "source": [
    "numeros = [1, 2, 3, 4, 5]\n",
    "filtrados = [x for x in numeros if x>2]\n",
    "print(filtrados) "
   ]
  },
  {
   "cell_type": "markdown",
   "id": "60eafc54-ab7c-479f-850a-8b7c8fddbdde",
   "metadata": {},
   "source": [
    "### Modificar y filtrar datos en una lista\n",
    "\n",
    "También puedes combinar ambas operaciones: modificar y filtrar. Por ejemplo, multiplicar por 2 solo los números mayores que 2:"
   ]
  },
  {
   "cell_type": "code",
   "execution_count": 54,
   "id": "2dc8bba2-e6a2-4c61-8da0-c5bc60e3e58b",
   "metadata": {},
   "outputs": [
    {
     "name": "stdout",
     "output_type": "stream",
     "text": [
      "[6, 8, 10]\n"
     ]
    }
   ],
   "source": [
    "numeros = [1, 2, 3, 4, 5]\n",
    "modificados_y_filtrados = [x * 2 for x in numeros if x > 2]\n",
    "print(modificados_y_filtrados) "
   ]
  },
  {
   "cell_type": "markdown",
   "id": "42faa91e-86d7-4956-9ee9-c403fd140130",
   "metadata": {},
   "source": [
    "### Ejemplo con una lista de cadenas\n",
    "Supongamos que tienes una lista de cadenas y quieres convertir todas las cadenas a mayúsculas solo si su longitud es mayor que 3:"
   ]
  },
  {
   "cell_type": "code",
   "execution_count": 60,
   "id": "bb46bbd1-c189-4fae-87c8-58f7247649db",
   "metadata": {},
   "outputs": [
    {
     "name": "stdout",
     "output_type": "stream",
     "text": [
      "['TRES', 'CUATRO', 'CINCO']\n"
     ]
    }
   ],
   "source": [
    "cadenas = [\"uno\", \"dos\", \"tres\", \"cuatro\", \"cinco\"]\n",
    "modificadas = [s.upper() for s in cadenas if len(s) > 3 ]\n",
    "print(modificadas)"
   ]
  },
  {
   "cell_type": "markdown",
   "id": "33ad75d2-2bea-437d-af29-7fb474c44f8e",
   "metadata": {},
   "source": [
    "### Filtrar datos basados en múltiples condiciones\n",
    "Por ejemplo, obtener los números que son pares y mayores que 2:"
   ]
  },
  {
   "cell_type": "code",
   "execution_count": 62,
   "id": "bdde7314-c5b0-44e8-86da-851913c8e09e",
   "metadata": {},
   "outputs": [
    {
     "name": "stdout",
     "output_type": "stream",
     "text": [
      "[4, 6, 8, 10]\n"
     ]
    }
   ],
   "source": [
    "numeros = [1, 2, 3, 4, 5, 6, 7, 8, 9, 10]\n",
    "pares_y_mayores = [x for x in numeros if x % 2 == 0 and x > 2]\n",
    "print(pares_y_mayores)"
   ]
  },
  {
   "cell_type": "code",
   "execution_count": null,
   "id": "fe4f3375-b3cb-4d41-9062-858b44247f90",
   "metadata": {},
   "outputs": [],
   "source": []
  }
 ],
 "metadata": {
  "kernelspec": {
   "display_name": "Python 3 (ipykernel)",
   "language": "python",
   "name": "python3"
  },
  "language_info": {
   "codemirror_mode": {
    "name": "ipython",
    "version": 3
   },
   "file_extension": ".py",
   "mimetype": "text/x-python",
   "name": "python",
   "nbconvert_exporter": "python",
   "pygments_lexer": "ipython3",
   "version": "3.12.7"
  }
 },
 "nbformat": 4,
 "nbformat_minor": 5
}
