{
 "cells": [
  {
   "cell_type": "code",
   "execution_count": 2,
   "id": "373a9d40-7ba3-4c85-b50b-807d8f24a128",
   "metadata": {},
   "outputs": [
    {
     "data": {
      "text/plain": [
       "array([['Bella', 'Labrador', 'Cafe', '56', '24', '2013-07-01'],\n",
       "       ['Charlie', 'Poodle', 'Negro', '43', '24', '2016-09-16'],\n",
       "       ['Lucy', 'Chow Chow', 'Cafe', '46', '24', '2014-08-25'],\n",
       "       ['Cooper', 'Schnauzer', 'Gris', '49', '17', '2011-12-11'],\n",
       "       ['Bernie', 'San Bernardo', 'Blanco', '77', '74', '2018-02-27'],\n",
       "       ['Max', 'Chow Chow', 'Blanco', '45', '28', '2019-03-27'],\n",
       "       ['Reed', 'Schnauzer', 'Negro', '45', '15', '2017-09-18']],\n",
       "      dtype='<U12')"
      ]
     },
     "execution_count": 2,
     "metadata": {},
     "output_type": "execute_result"
    }
   ],
   "source": [
    "import numpy as np \n",
    "import pandas as pd\n",
    "# Arreglo prrevio con algunos arreglos extra (Ultimos dos)...\n",
    "arreglo = np.array ([[\"Bella\", \"Labrador\", \"Cafe\", 56,24,\"2013-07-01\"],\n",
    "                     [\"Charlie\",\"Poodle\",\"Negro\",43,24,\"2016-09-16\"],\n",
    "                     [\"Lucy\",\"Chow Chow\",\"Cafe\",46,24,\"2014-08-25\"],\n",
    "                    [\"Cooper\",\"Schnauzer\",\"Gris\",49,17,\"2011-12-11\"],\n",
    "                    [\"Bernie\",\"San Bernardo\",\"Blanco\",77,74,\"2018-02-27\"],\n",
    "                    [\"Max\",\"Chow Chow\",\"Blanco\",45,28,\"2019-03-27\"],\n",
    "                     [\"Reed\",\"Schnauzer\",\"Negro\",45,15,\"2017-09-18\"]\n",
    "                    ])\n",
    "arreglo"
   ]
  },
  {
   "cell_type": "code",
   "execution_count": 4,
   "id": "a3c9cefc-b711-4396-9f4e-07e39352916d",
   "metadata": {},
   "outputs": [
    {
     "data": {
      "text/html": [
       "<div>\n",
       "<style scoped>\n",
       "    .dataframe tbody tr th:only-of-type {\n",
       "        vertical-align: middle;\n",
       "    }\n",
       "\n",
       "    .dataframe tbody tr th {\n",
       "        vertical-align: top;\n",
       "    }\n",
       "\n",
       "    .dataframe thead th {\n",
       "        text-align: right;\n",
       "    }\n",
       "</style>\n",
       "<table border=\"1\" class=\"dataframe\">\n",
       "  <thead>\n",
       "    <tr style=\"text-align: right;\">\n",
       "      <th></th>\n",
       "      <th>Nombre</th>\n",
       "      <th>Raza</th>\n",
       "      <th>Color</th>\n",
       "      <th>Altura_cm</th>\n",
       "      <th>Peso_kg</th>\n",
       "      <th>Fecha_Nac</th>\n",
       "    </tr>\n",
       "  </thead>\n",
       "  <tbody>\n",
       "    <tr>\n",
       "      <th>0</th>\n",
       "      <td>Bella</td>\n",
       "      <td>Labrador</td>\n",
       "      <td>Cafe</td>\n",
       "      <td>56</td>\n",
       "      <td>24</td>\n",
       "      <td>2013-07-01</td>\n",
       "    </tr>\n",
       "    <tr>\n",
       "      <th>1</th>\n",
       "      <td>Charlie</td>\n",
       "      <td>Poodle</td>\n",
       "      <td>Negro</td>\n",
       "      <td>43</td>\n",
       "      <td>24</td>\n",
       "      <td>2016-09-16</td>\n",
       "    </tr>\n",
       "    <tr>\n",
       "      <th>2</th>\n",
       "      <td>Lucy</td>\n",
       "      <td>Chow Chow</td>\n",
       "      <td>Cafe</td>\n",
       "      <td>46</td>\n",
       "      <td>24</td>\n",
       "      <td>2014-08-25</td>\n",
       "    </tr>\n",
       "    <tr>\n",
       "      <th>3</th>\n",
       "      <td>Cooper</td>\n",
       "      <td>Schnauzer</td>\n",
       "      <td>Gris</td>\n",
       "      <td>49</td>\n",
       "      <td>17</td>\n",
       "      <td>2011-12-11</td>\n",
       "    </tr>\n",
       "    <tr>\n",
       "      <th>4</th>\n",
       "      <td>Bernie</td>\n",
       "      <td>San Bernardo</td>\n",
       "      <td>Blanco</td>\n",
       "      <td>77</td>\n",
       "      <td>74</td>\n",
       "      <td>2018-02-27</td>\n",
       "    </tr>\n",
       "    <tr>\n",
       "      <th>5</th>\n",
       "      <td>Max</td>\n",
       "      <td>Chow Chow</td>\n",
       "      <td>Blanco</td>\n",
       "      <td>45</td>\n",
       "      <td>28</td>\n",
       "      <td>2019-03-27</td>\n",
       "    </tr>\n",
       "    <tr>\n",
       "      <th>6</th>\n",
       "      <td>Reed</td>\n",
       "      <td>Schnauzer</td>\n",
       "      <td>Negro</td>\n",
       "      <td>45</td>\n",
       "      <td>15</td>\n",
       "      <td>2017-09-18</td>\n",
       "    </tr>\n",
       "  </tbody>\n",
       "</table>\n",
       "</div>"
      ],
      "text/plain": [
       "    Nombre          Raza   Color  Altura_cm  Peso_kg   Fecha_Nac\n",
       "0    Bella      Labrador    Cafe         56       24  2013-07-01\n",
       "1  Charlie        Poodle   Negro         43       24  2016-09-16\n",
       "2     Lucy     Chow Chow    Cafe         46       24  2014-08-25\n",
       "3   Cooper     Schnauzer    Gris         49       17  2011-12-11\n",
       "4   Bernie  San Bernardo  Blanco         77       74  2018-02-27\n",
       "5      Max     Chow Chow  Blanco         45       28  2019-03-27\n",
       "6     Reed     Schnauzer   Negro         45       15  2017-09-18"
      ]
     },
     "execution_count": 4,
     "metadata": {},
     "output_type": "execute_result"
    }
   ],
   "source": [
    "df = pd.DataFrame(data=arreglo, columns = [\"Nombre\",\"Raza\",\"Color\",\"Altura_cm\",\"Peso_kg\",\"Fecha_Nac\"])\n",
    "df[\"Altura_cm\"] = df[\"Altura_cm\"].astype(int)\n",
    "df[\"Peso_kg\"] = df[\"Peso_kg\"].astype(int)\n",
    "df"
   ]
  },
  {
   "cell_type": "code",
   "execution_count": 6,
   "id": "0e798cad-3bd1-484f-ad8b-d66d5f49ce9e",
   "metadata": {},
   "outputs": [
    {
     "data": {
      "text/plain": [
       "29.428571428571427"
      ]
     },
     "execution_count": 6,
     "metadata": {},
     "output_type": "execute_result"
    }
   ],
   "source": [
    "# Calculo de la media \n",
    "df[\"Peso_kg\"].mean()"
   ]
  },
  {
   "cell_type": "code",
   "execution_count": 8,
   "id": "5870f8da-7a8d-4ee3-b8b9-a1d1aeb549a8",
   "metadata": {},
   "outputs": [
    {
     "data": {
      "text/plain": [
       "'2011-12-11'"
      ]
     },
     "execution_count": 8,
     "metadata": {},
     "output_type": "execute_result"
    }
   ],
   "source": [
    "# Calculo de l a fecha de nacimiento mas antigua\n",
    "df[\"Fecha_Nac\"].min()"
   ]
  },
  {
   "cell_type": "code",
   "execution_count": 12,
   "id": "f9639feb-721d-4fc4-9566-19894a8a0d71",
   "metadata": {},
   "outputs": [
    {
     "data": {
      "text/plain": [
       "54.60000000000001"
      ]
     },
     "execution_count": 12,
     "metadata": {},
     "output_type": "execute_result"
    }
   ],
   "source": [
    "#Funcion de agregacion estadistica \n",
    "def percentil80(columna):\n",
    "    return columna.quantile(0.80)\n",
    "    \n",
    "df[\"Altura_cm\"].agg(percentil80)"
   ]
  },
  {
   "cell_type": "code",
   "execution_count": 14,
   "id": "80664fc1-3925-4be6-8a29-9353755c7161",
   "metadata": {},
   "outputs": [
    {
     "data": {
      "text/plain": [
       "Altura_cm    54.6\n",
       "Peso_kg      27.2\n",
       "dtype: float64"
      ]
     },
     "execution_count": 14,
     "metadata": {},
     "output_type": "execute_result"
    }
   ],
   "source": [
    "# Agrupacion estadistica en varias columnas \n",
    "df[[\"Altura_cm\",\"Peso_kg\"]].agg(percentil80)"
   ]
  },
  {
   "cell_type": "code",
   "execution_count": 18,
   "id": "96e74b3a-72a3-41ec-bdb2-a106b94325ca",
   "metadata": {},
   "outputs": [
    {
     "data": {
      "text/plain": [
       "percentil80    54.6\n",
       "percentil90    64.4\n",
       "Name: Altura_cm, dtype: float64"
      ]
     },
     "execution_count": 18,
     "metadata": {},
     "output_type": "execute_result"
    }
   ],
   "source": [
    "# Aplicacion estadistica multiples \n",
    "def percentil90(columna):\n",
    "    return columna.quantile(0.90)\n",
    "\n",
    "df[\"Altura_cm\"].agg([percentil80, percentil90])"
   ]
  },
  {
   "cell_type": "code",
   "execution_count": 20,
   "id": "11c5c3ae-b7e1-41a7-8840-da56e4fd589d",
   "metadata": {},
   "outputs": [
    {
     "data": {
      "text/plain": [
       "0    56\n",
       "1    43\n",
       "2    46\n",
       "3    49\n",
       "4    77\n",
       "5    45\n",
       "6    45\n",
       "Name: Altura_cm, dtype: int32"
      ]
     },
     "execution_count": 20,
     "metadata": {},
     "output_type": "execute_result"
    }
   ],
   "source": [
    "df[\"Altura_cm\"]"
   ]
  },
  {
   "cell_type": "code",
   "execution_count": 26,
   "id": "9e7a7a57-0389-4cdd-8fd8-45e63a5a5e9d",
   "metadata": {},
   "outputs": [
    {
     "data": {
      "text/plain": [
       "0     56\n",
       "1     99\n",
       "2    145\n",
       "3    194\n",
       "4    271\n",
       "5    316\n",
       "6    361\n",
       "Name: Altura_cm, dtype: int32"
      ]
     },
     "execution_count": 26,
     "metadata": {},
     "output_type": "execute_result"
    }
   ],
   "source": [
    "#Funcion de acumulacion suma \n",
    "df[\"Altura_cm\"].cumsum()"
   ]
  },
  {
   "cell_type": "code",
   "execution_count": 28,
   "id": "7b3d36d8-1c06-4917-87e9-3c27b975f23e",
   "metadata": {},
   "outputs": [
    {
     "data": {
      "text/plain": [
       "0    56\n",
       "1    43\n",
       "2    43\n",
       "3    43\n",
       "4    43\n",
       "5    43\n",
       "6    43\n",
       "Name: Altura_cm, dtype: int32"
      ]
     },
     "execution_count": 28,
     "metadata": {},
     "output_type": "execute_result"
    }
   ],
   "source": [
    "# Funcion minimo acumulativo\n",
    "df[\"Altura_cm\"].cummin()"
   ]
  },
  {
   "cell_type": "code",
   "execution_count": 30,
   "id": "c9e05922-2ecc-4738-b9d3-522507d2ec25",
   "metadata": {},
   "outputs": [
    {
     "data": {
      "text/plain": [
       "Raza\n",
       "Chow Chow       2\n",
       "Schnauzer       2\n",
       "Labrador        1\n",
       "Poodle          1\n",
       "San Bernardo    1\n",
       "Name: count, dtype: int64"
      ]
     },
     "execution_count": 30,
     "metadata": {},
     "output_type": "execute_result"
    }
   ],
   "source": [
    "# realizar conteos de perros por raza\n",
    "df[\"Raza\"]. value_counts()"
   ]
  },
  {
   "cell_type": "code",
   "execution_count": 32,
   "id": "dabe29ae-7009-4233-a55c-72cf4241f7f6",
   "metadata": {},
   "outputs": [
    {
     "data": {
      "text/plain": [
       "Raza\n",
       "Chow Chow       0.285714\n",
       "Schnauzer       0.285714\n",
       "Labrador        0.142857\n",
       "Poodle          0.142857\n",
       "San Bernardo    0.142857\n",
       "Name: proportion, dtype: float64"
      ]
     },
     "execution_count": 32,
     "metadata": {},
     "output_type": "execute_result"
    }
   ],
   "source": [
    "# obtener la proporcion de perros\n",
    "df[\"Raza\"]. value_counts(normalize=True)"
   ]
  },
  {
   "cell_type": "code",
   "execution_count": 34,
   "id": "53094eea-bad9-440b-836a-beb7e70b2709",
   "metadata": {},
   "outputs": [
    {
     "name": "stdout",
     "output_type": "stream",
     "text": [
      "51.0\n",
      "24.0\n",
      "17.0\n",
      "19.5\n"
     ]
    }
   ],
   "source": [
    "#Resumen por grupo \n",
    "print(df[df[\"Color\"]== \"Blanco\"][\"Peso_kg\"].mean())\n",
    "print(df[df[\"Color\"]== \"Cafe\"][\"Peso_kg\"].mean())\n",
    "print(df[df[\"Color\"]== \"Gris\"][\"Peso_kg\"].mean())\n",
    "print(df[df[\"Color\"]== \"Negro\"][\"Peso_kg\"].mean())"
   ]
  },
  {
   "cell_type": "code",
   "execution_count": 36,
   "id": "d8efb8fc-c8d5-4262-bd54-fed9fb122c62",
   "metadata": {},
   "outputs": [
    {
     "data": {
      "text/plain": [
       "Color\n",
       "Blanco    51.0\n",
       "Cafe      24.0\n",
       "Gris      17.0\n",
       "Negro     19.5\n",
       "Name: Peso_kg, dtype: float64"
      ]
     },
     "execution_count": 36,
     "metadata": {},
     "output_type": "execute_result"
    }
   ],
   "source": [
    "#Resumen por grupo MEJOR OPCION \n",
    "df.groupby(\"Color\")[\"Peso_kg\"].mean()"
   ]
  },
  {
   "cell_type": "code",
   "execution_count": 38,
   "id": "a963dd83-db99-4414-a08d-37c652083add",
   "metadata": {},
   "outputs": [
    {
     "name": "stderr",
     "output_type": "stream",
     "text": [
      "C:\\Users\\erojas\\AppData\\Local\\Temp\\ipykernel_11384\\1268225432.py:2: FutureWarning: The provided callable <built-in function min> is currently using SeriesGroupBy.min. In a future version of pandas, the provided callable will be used directly. To keep current behavior pass the string \"min\" instead.\n",
      "  df.groupby(\"Color\")[\"Peso_kg\"].agg([min,max,sum])\n",
      "C:\\Users\\erojas\\AppData\\Local\\Temp\\ipykernel_11384\\1268225432.py:2: FutureWarning: The provided callable <built-in function max> is currently using SeriesGroupBy.max. In a future version of pandas, the provided callable will be used directly. To keep current behavior pass the string \"max\" instead.\n",
      "  df.groupby(\"Color\")[\"Peso_kg\"].agg([min,max,sum])\n",
      "C:\\Users\\erojas\\AppData\\Local\\Temp\\ipykernel_11384\\1268225432.py:2: FutureWarning: The provided callable <built-in function sum> is currently using SeriesGroupBy.sum. In a future version of pandas, the provided callable will be used directly. To keep current behavior pass the string \"sum\" instead.\n",
      "  df.groupby(\"Color\")[\"Peso_kg\"].agg([min,max,sum])\n"
     ]
    },
    {
     "data": {
      "text/html": [
       "<div>\n",
       "<style scoped>\n",
       "    .dataframe tbody tr th:only-of-type {\n",
       "        vertical-align: middle;\n",
       "    }\n",
       "\n",
       "    .dataframe tbody tr th {\n",
       "        vertical-align: top;\n",
       "    }\n",
       "\n",
       "    .dataframe thead th {\n",
       "        text-align: right;\n",
       "    }\n",
       "</style>\n",
       "<table border=\"1\" class=\"dataframe\">\n",
       "  <thead>\n",
       "    <tr style=\"text-align: right;\">\n",
       "      <th></th>\n",
       "      <th>min</th>\n",
       "      <th>max</th>\n",
       "      <th>sum</th>\n",
       "    </tr>\n",
       "    <tr>\n",
       "      <th>Color</th>\n",
       "      <th></th>\n",
       "      <th></th>\n",
       "      <th></th>\n",
       "    </tr>\n",
       "  </thead>\n",
       "  <tbody>\n",
       "    <tr>\n",
       "      <th>Blanco</th>\n",
       "      <td>28</td>\n",
       "      <td>74</td>\n",
       "      <td>102</td>\n",
       "    </tr>\n",
       "    <tr>\n",
       "      <th>Cafe</th>\n",
       "      <td>24</td>\n",
       "      <td>24</td>\n",
       "      <td>48</td>\n",
       "    </tr>\n",
       "    <tr>\n",
       "      <th>Gris</th>\n",
       "      <td>17</td>\n",
       "      <td>17</td>\n",
       "      <td>17</td>\n",
       "    </tr>\n",
       "    <tr>\n",
       "      <th>Negro</th>\n",
       "      <td>15</td>\n",
       "      <td>24</td>\n",
       "      <td>39</td>\n",
       "    </tr>\n",
       "  </tbody>\n",
       "</table>\n",
       "</div>"
      ],
      "text/plain": [
       "        min  max  sum\n",
       "Color                \n",
       "Blanco   28   74  102\n",
       "Cafe     24   24   48\n",
       "Gris     17   17   17\n",
       "Negro    15   24   39"
      ]
     },
     "execution_count": 38,
     "metadata": {},
     "output_type": "execute_result"
    }
   ],
   "source": [
    "# Agrupacion por color en base a diversas estadisticas \n",
    "df.groupby(\"Color\")[\"Peso_kg\"].agg([min,max,sum])"
   ]
  },
  {
   "cell_type": "code",
   "execution_count": 40,
   "id": "0e5c4140-40df-4db4-84bc-634d1fc14db5",
   "metadata": {},
   "outputs": [
    {
     "data": {
      "text/plain": [
       "Color   Raza        \n",
       "Blanco  Chow Chow       28.0\n",
       "        San Bernardo    74.0\n",
       "Cafe    Chow Chow       24.0\n",
       "        Labrador        24.0\n",
       "Gris    Schnauzer       17.0\n",
       "Negro   Poodle          24.0\n",
       "        Schnauzer       15.0\n",
       "Name: Peso_kg, dtype: float64"
      ]
     },
     "execution_count": 40,
     "metadata": {},
     "output_type": "execute_result"
    }
   ],
   "source": [
    "# Agrupacion por color en base a diversas estadisticas \n",
    "df.groupby([\"Color\",\"Raza\"])[\"Peso_kg\"].mean()"
   ]
  },
  {
   "cell_type": "code",
   "execution_count": 42,
   "id": "8e273076-3bb2-48cd-ae11-d74d6b6b6ac1",
   "metadata": {},
   "outputs": [
    {
     "name": "stderr",
     "output_type": "stream",
     "text": [
      "C:\\Users\\erojas\\AppData\\Local\\Temp\\ipykernel_11384\\4254946933.py:2: FutureWarning: The provided callable <function mean at 0x000001B26F892A20> is currently using DataFrameGroupBy.mean. In a future version of pandas, the provided callable will be used directly. To keep current behavior pass the string \"mean\" instead.\n",
      "  df.pivot_table(values = \"Peso_kg\", index = \"Color\", aggfunc = [np.mean, np.median])\n",
      "C:\\Users\\erojas\\AppData\\Local\\Temp\\ipykernel_11384\\4254946933.py:2: FutureWarning: The provided callable <function median at 0x000001B26F9CACA0> is currently using DataFrameGroupBy.median. In a future version of pandas, the provided callable will be used directly. To keep current behavior pass the string \"median\" instead.\n",
      "  df.pivot_table(values = \"Peso_kg\", index = \"Color\", aggfunc = [np.mean, np.median])\n"
     ]
    },
    {
     "data": {
      "text/html": [
       "<div>\n",
       "<style scoped>\n",
       "    .dataframe tbody tr th:only-of-type {\n",
       "        vertical-align: middle;\n",
       "    }\n",
       "\n",
       "    .dataframe tbody tr th {\n",
       "        vertical-align: top;\n",
       "    }\n",
       "\n",
       "    .dataframe thead tr th {\n",
       "        text-align: left;\n",
       "    }\n",
       "\n",
       "    .dataframe thead tr:last-of-type th {\n",
       "        text-align: right;\n",
       "    }\n",
       "</style>\n",
       "<table border=\"1\" class=\"dataframe\">\n",
       "  <thead>\n",
       "    <tr>\n",
       "      <th></th>\n",
       "      <th>mean</th>\n",
       "      <th>median</th>\n",
       "    </tr>\n",
       "    <tr>\n",
       "      <th></th>\n",
       "      <th>Peso_kg</th>\n",
       "      <th>Peso_kg</th>\n",
       "    </tr>\n",
       "    <tr>\n",
       "      <th>Color</th>\n",
       "      <th></th>\n",
       "      <th></th>\n",
       "    </tr>\n",
       "  </thead>\n",
       "  <tbody>\n",
       "    <tr>\n",
       "      <th>Blanco</th>\n",
       "      <td>51.0</td>\n",
       "      <td>51.0</td>\n",
       "    </tr>\n",
       "    <tr>\n",
       "      <th>Cafe</th>\n",
       "      <td>24.0</td>\n",
       "      <td>24.0</td>\n",
       "    </tr>\n",
       "    <tr>\n",
       "      <th>Gris</th>\n",
       "      <td>17.0</td>\n",
       "      <td>17.0</td>\n",
       "    </tr>\n",
       "    <tr>\n",
       "      <th>Negro</th>\n",
       "      <td>19.5</td>\n",
       "      <td>19.5</td>\n",
       "    </tr>\n",
       "  </tbody>\n",
       "</table>\n",
       "</div>"
      ],
      "text/plain": [
       "          mean  median\n",
       "       Peso_kg Peso_kg\n",
       "Color                 \n",
       "Blanco    51.0    51.0\n",
       "Cafe      24.0    24.0\n",
       "Gris      17.0    17.0\n",
       "Negro     19.5    19.5"
      ]
     },
     "execution_count": 42,
     "metadata": {},
     "output_type": "execute_result"
    }
   ],
   "source": [
    "# Uso de tablas pivote \n",
    "df.pivot_table(values = \"Peso_kg\", index = \"Color\", aggfunc = [np.mean, np.median])"
   ]
  },
  {
   "cell_type": "code",
   "execution_count": 44,
   "id": "1a854947-a9ed-409c-b749-52e4885562f0",
   "metadata": {},
   "outputs": [
    {
     "data": {
      "text/html": [
       "<div>\n",
       "<style scoped>\n",
       "    .dataframe tbody tr th:only-of-type {\n",
       "        vertical-align: middle;\n",
       "    }\n",
       "\n",
       "    .dataframe tbody tr th {\n",
       "        vertical-align: top;\n",
       "    }\n",
       "\n",
       "    .dataframe thead th {\n",
       "        text-align: right;\n",
       "    }\n",
       "</style>\n",
       "<table border=\"1\" class=\"dataframe\">\n",
       "  <thead>\n",
       "    <tr style=\"text-align: right;\">\n",
       "      <th>Raza</th>\n",
       "      <th>Chow Chow</th>\n",
       "      <th>Labrador</th>\n",
       "      <th>Poodle</th>\n",
       "      <th>San Bernardo</th>\n",
       "      <th>Schnauzer</th>\n",
       "    </tr>\n",
       "    <tr>\n",
       "      <th>Color</th>\n",
       "      <th></th>\n",
       "      <th></th>\n",
       "      <th></th>\n",
       "      <th></th>\n",
       "      <th></th>\n",
       "    </tr>\n",
       "  </thead>\n",
       "  <tbody>\n",
       "    <tr>\n",
       "      <th>Blanco</th>\n",
       "      <td>28.0</td>\n",
       "      <td>NaN</td>\n",
       "      <td>NaN</td>\n",
       "      <td>74.0</td>\n",
       "      <td>NaN</td>\n",
       "    </tr>\n",
       "    <tr>\n",
       "      <th>Cafe</th>\n",
       "      <td>24.0</td>\n",
       "      <td>24.0</td>\n",
       "      <td>NaN</td>\n",
       "      <td>NaN</td>\n",
       "      <td>NaN</td>\n",
       "    </tr>\n",
       "    <tr>\n",
       "      <th>Gris</th>\n",
       "      <td>NaN</td>\n",
       "      <td>NaN</td>\n",
       "      <td>NaN</td>\n",
       "      <td>NaN</td>\n",
       "      <td>17.0</td>\n",
       "    </tr>\n",
       "    <tr>\n",
       "      <th>Negro</th>\n",
       "      <td>NaN</td>\n",
       "      <td>NaN</td>\n",
       "      <td>24.0</td>\n",
       "      <td>NaN</td>\n",
       "      <td>15.0</td>\n",
       "    </tr>\n",
       "  </tbody>\n",
       "</table>\n",
       "</div>"
      ],
      "text/plain": [
       "Raza    Chow Chow  Labrador  Poodle  San Bernardo  Schnauzer\n",
       "Color                                                       \n",
       "Blanco       28.0       NaN     NaN          74.0        NaN\n",
       "Cafe         24.0      24.0     NaN           NaN        NaN\n",
       "Gris          NaN       NaN     NaN           NaN       17.0\n",
       "Negro         NaN       NaN    24.0           NaN       15.0"
      ]
     },
     "execution_count": 44,
     "metadata": {},
     "output_type": "execute_result"
    }
   ],
   "source": [
    "# Obtencion de promedios para dos variables \n",
    "df.pivot_table(values = \"Peso_kg\", index = \"Color\", columns = \"Raza\") # Media se toma por omision "
   ]
  },
  {
   "cell_type": "code",
   "execution_count": 48,
   "id": "31d52129-6f71-4bd1-8585-948eba0612c4",
   "metadata": {},
   "outputs": [
    {
     "name": "stderr",
     "output_type": "stream",
     "text": [
      "C:\\Users\\erojas\\AppData\\Local\\Temp\\ipykernel_11384\\4274659269.py:2: FutureWarning: The provided callable <function mean at 0x000001B26F892A20> is currently using DataFrameGroupBy.mean. In a future version of pandas, the provided callable will be used directly. To keep current behavior pass the string \"mean\" instead.\n",
      "  df.pivot_table(values = \"Peso_kg\", index = \"Color\", columns = \"Raza\", fill_value = 0, margins = True, aggfunc = np.mean)\n",
      "C:\\Users\\erojas\\AppData\\Local\\Temp\\ipykernel_11384\\4274659269.py:2: FutureWarning: The provided callable <function mean at 0x000001B26F892A20> is currently using DataFrameGroupBy.mean. In a future version of pandas, the provided callable will be used directly. To keep current behavior pass the string \"mean\" instead.\n",
      "  df.pivot_table(values = \"Peso_kg\", index = \"Color\", columns = \"Raza\", fill_value = 0, margins = True, aggfunc = np.mean)\n",
      "C:\\Users\\erojas\\AppData\\Local\\Temp\\ipykernel_11384\\4274659269.py:2: FutureWarning: The provided callable <function mean at 0x000001B26F892A20> is currently using DataFrameGroupBy.mean. In a future version of pandas, the provided callable will be used directly. To keep current behavior pass the string \"mean\" instead.\n",
      "  df.pivot_table(values = \"Peso_kg\", index = \"Color\", columns = \"Raza\", fill_value = 0, margins = True, aggfunc = np.mean)\n"
     ]
    },
    {
     "data": {
      "text/html": [
       "<div>\n",
       "<style scoped>\n",
       "    .dataframe tbody tr th:only-of-type {\n",
       "        vertical-align: middle;\n",
       "    }\n",
       "\n",
       "    .dataframe tbody tr th {\n",
       "        vertical-align: top;\n",
       "    }\n",
       "\n",
       "    .dataframe thead th {\n",
       "        text-align: right;\n",
       "    }\n",
       "</style>\n",
       "<table border=\"1\" class=\"dataframe\">\n",
       "  <thead>\n",
       "    <tr style=\"text-align: right;\">\n",
       "      <th>Raza</th>\n",
       "      <th>Chow Chow</th>\n",
       "      <th>Labrador</th>\n",
       "      <th>Poodle</th>\n",
       "      <th>San Bernardo</th>\n",
       "      <th>Schnauzer</th>\n",
       "      <th>All</th>\n",
       "    </tr>\n",
       "    <tr>\n",
       "      <th>Color</th>\n",
       "      <th></th>\n",
       "      <th></th>\n",
       "      <th></th>\n",
       "      <th></th>\n",
       "      <th></th>\n",
       "      <th></th>\n",
       "    </tr>\n",
       "  </thead>\n",
       "  <tbody>\n",
       "    <tr>\n",
       "      <th>Blanco</th>\n",
       "      <td>28.0</td>\n",
       "      <td>0.0</td>\n",
       "      <td>0.0</td>\n",
       "      <td>74.0</td>\n",
       "      <td>0.0</td>\n",
       "      <td>51.000000</td>\n",
       "    </tr>\n",
       "    <tr>\n",
       "      <th>Cafe</th>\n",
       "      <td>24.0</td>\n",
       "      <td>24.0</td>\n",
       "      <td>0.0</td>\n",
       "      <td>0.0</td>\n",
       "      <td>0.0</td>\n",
       "      <td>24.000000</td>\n",
       "    </tr>\n",
       "    <tr>\n",
       "      <th>Gris</th>\n",
       "      <td>0.0</td>\n",
       "      <td>0.0</td>\n",
       "      <td>0.0</td>\n",
       "      <td>0.0</td>\n",
       "      <td>17.0</td>\n",
       "      <td>17.000000</td>\n",
       "    </tr>\n",
       "    <tr>\n",
       "      <th>Negro</th>\n",
       "      <td>0.0</td>\n",
       "      <td>0.0</td>\n",
       "      <td>24.0</td>\n",
       "      <td>0.0</td>\n",
       "      <td>15.0</td>\n",
       "      <td>19.500000</td>\n",
       "    </tr>\n",
       "    <tr>\n",
       "      <th>All</th>\n",
       "      <td>26.0</td>\n",
       "      <td>24.0</td>\n",
       "      <td>24.0</td>\n",
       "      <td>74.0</td>\n",
       "      <td>16.0</td>\n",
       "      <td>29.428571</td>\n",
       "    </tr>\n",
       "  </tbody>\n",
       "</table>\n",
       "</div>"
      ],
      "text/plain": [
       "Raza    Chow Chow  Labrador  Poodle  San Bernardo  Schnauzer        All\n",
       "Color                                                                  \n",
       "Blanco       28.0       0.0     0.0          74.0        0.0  51.000000\n",
       "Cafe         24.0      24.0     0.0           0.0        0.0  24.000000\n",
       "Gris          0.0       0.0     0.0           0.0       17.0  17.000000\n",
       "Negro         0.0       0.0    24.0           0.0       15.0  19.500000\n",
       "All          26.0      24.0    24.0          74.0       16.0  29.428571"
      ]
     },
     "execution_count": 48,
     "metadata": {},
     "output_type": "execute_result"
    }
   ],
   "source": [
    "# Obtencion de promedios para dos variables  Mejora 2\n",
    "df.pivot_table(values = \"Peso_kg\", index = \"Color\", columns = \"Raza\", fill_value = 0, margins = True, aggfunc = np.mean)"
   ]
  },
  {
   "cell_type": "code",
   "execution_count": 50,
   "id": "848e779c-f99b-49de-99e4-447f76b9efc5",
   "metadata": {},
   "outputs": [
    {
     "name": "stderr",
     "output_type": "stream",
     "text": [
      "C:\\Users\\erojas\\AppData\\Local\\Temp\\ipykernel_11384\\3426267026.py:2: FutureWarning: The provided callable <function median at 0x000001B26F9CACA0> is currently using DataFrameGroupBy.median. In a future version of pandas, the provided callable will be used directly. To keep current behavior pass the string \"median\" instead.\n",
      "  df.pivot_table(values = \"Peso_kg\", index = \"Color\", columns = \"Raza\", fill_value = 0, margins = True, aggfunc = np.median)\n",
      "C:\\Users\\erojas\\AppData\\Local\\Temp\\ipykernel_11384\\3426267026.py:2: FutureWarning: The provided callable <function median at 0x000001B26F9CACA0> is currently using DataFrameGroupBy.median. In a future version of pandas, the provided callable will be used directly. To keep current behavior pass the string \"median\" instead.\n",
      "  df.pivot_table(values = \"Peso_kg\", index = \"Color\", columns = \"Raza\", fill_value = 0, margins = True, aggfunc = np.median)\n",
      "C:\\Users\\erojas\\AppData\\Local\\Temp\\ipykernel_11384\\3426267026.py:2: FutureWarning: The provided callable <function median at 0x000001B26F9CACA0> is currently using DataFrameGroupBy.median. In a future version of pandas, the provided callable will be used directly. To keep current behavior pass the string \"median\" instead.\n",
      "  df.pivot_table(values = \"Peso_kg\", index = \"Color\", columns = \"Raza\", fill_value = 0, margins = True, aggfunc = np.median)\n"
     ]
    },
    {
     "data": {
      "text/html": [
       "<div>\n",
       "<style scoped>\n",
       "    .dataframe tbody tr th:only-of-type {\n",
       "        vertical-align: middle;\n",
       "    }\n",
       "\n",
       "    .dataframe tbody tr th {\n",
       "        vertical-align: top;\n",
       "    }\n",
       "\n",
       "    .dataframe thead th {\n",
       "        text-align: right;\n",
       "    }\n",
       "</style>\n",
       "<table border=\"1\" class=\"dataframe\">\n",
       "  <thead>\n",
       "    <tr style=\"text-align: right;\">\n",
       "      <th>Raza</th>\n",
       "      <th>Chow Chow</th>\n",
       "      <th>Labrador</th>\n",
       "      <th>Poodle</th>\n",
       "      <th>San Bernardo</th>\n",
       "      <th>Schnauzer</th>\n",
       "      <th>All</th>\n",
       "    </tr>\n",
       "    <tr>\n",
       "      <th>Color</th>\n",
       "      <th></th>\n",
       "      <th></th>\n",
       "      <th></th>\n",
       "      <th></th>\n",
       "      <th></th>\n",
       "      <th></th>\n",
       "    </tr>\n",
       "  </thead>\n",
       "  <tbody>\n",
       "    <tr>\n",
       "      <th>Blanco</th>\n",
       "      <td>28.0</td>\n",
       "      <td>0.0</td>\n",
       "      <td>0.0</td>\n",
       "      <td>74.0</td>\n",
       "      <td>0.0</td>\n",
       "      <td>51.0</td>\n",
       "    </tr>\n",
       "    <tr>\n",
       "      <th>Cafe</th>\n",
       "      <td>24.0</td>\n",
       "      <td>24.0</td>\n",
       "      <td>0.0</td>\n",
       "      <td>0.0</td>\n",
       "      <td>0.0</td>\n",
       "      <td>24.0</td>\n",
       "    </tr>\n",
       "    <tr>\n",
       "      <th>Gris</th>\n",
       "      <td>0.0</td>\n",
       "      <td>0.0</td>\n",
       "      <td>0.0</td>\n",
       "      <td>0.0</td>\n",
       "      <td>17.0</td>\n",
       "      <td>17.0</td>\n",
       "    </tr>\n",
       "    <tr>\n",
       "      <th>Negro</th>\n",
       "      <td>0.0</td>\n",
       "      <td>0.0</td>\n",
       "      <td>24.0</td>\n",
       "      <td>0.0</td>\n",
       "      <td>15.0</td>\n",
       "      <td>19.5</td>\n",
       "    </tr>\n",
       "    <tr>\n",
       "      <th>All</th>\n",
       "      <td>26.0</td>\n",
       "      <td>24.0</td>\n",
       "      <td>24.0</td>\n",
       "      <td>74.0</td>\n",
       "      <td>16.0</td>\n",
       "      <td>24.0</td>\n",
       "    </tr>\n",
       "  </tbody>\n",
       "</table>\n",
       "</div>"
      ],
      "text/plain": [
       "Raza    Chow Chow  Labrador  Poodle  San Bernardo  Schnauzer   All\n",
       "Color                                                             \n",
       "Blanco       28.0       0.0     0.0          74.0        0.0  51.0\n",
       "Cafe         24.0      24.0     0.0           0.0        0.0  24.0\n",
       "Gris          0.0       0.0     0.0           0.0       17.0  17.0\n",
       "Negro         0.0       0.0    24.0           0.0       15.0  19.5\n",
       "All          26.0      24.0    24.0          74.0       16.0  24.0"
      ]
     },
     "execution_count": 50,
     "metadata": {},
     "output_type": "execute_result"
    }
   ],
   "source": [
    "# Obtencion de medias para dos variables \n",
    "df.pivot_table(values = \"Peso_kg\", index = \"Color\", columns = \"Raza\", fill_value = 0, margins = True, aggfunc = np.median)"
   ]
  },
  {
   "cell_type": "code",
   "execution_count": null,
   "id": "bef477b6-c3c6-4dc3-87d9-a2906fae9c1d",
   "metadata": {},
   "outputs": [],
   "source": []
  }
 ],
 "metadata": {
  "kernelspec": {
   "display_name": "Python 3 (ipykernel)",
   "language": "python",
   "name": "python3"
  },
  "language_info": {
   "codemirror_mode": {
    "name": "ipython",
    "version": 3
   },
   "file_extension": ".py",
   "mimetype": "text/x-python",
   "name": "python",
   "nbconvert_exporter": "python",
   "pygments_lexer": "ipython3",
   "version": "3.12.7"
  }
 },
 "nbformat": 4,
 "nbformat_minor": 5
}
