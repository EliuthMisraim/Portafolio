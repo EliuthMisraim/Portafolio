{
 "cells": [
  {
   "cell_type": "code",
   "execution_count": 3,
   "id": "12d29482-3302-4f96-b79e-819c99c60f29",
   "metadata": {},
   "outputs": [],
   "source": [
    "import numpy as np "
   ]
  },
  {
   "cell_type": "code",
   "execution_count": 5,
   "id": "81b6605b-172c-4d9c-93c8-28186f5bc038",
   "metadata": {},
   "outputs": [
    {
     "data": {
      "text/plain": [
       "array([1, 2, 3, 4, 5])"
      ]
     },
     "execution_count": 5,
     "metadata": {},
     "output_type": "execute_result"
    }
   ],
   "source": [
    "# Creacion de un arreglo a partir de una lista\n",
    "lista1 = [1,2,3,4,5]\n",
    "arreglo1 = np.array(lista1)\n",
    "arreglo1"
   ]
  },
  {
   "cell_type": "code",
   "execution_count": 7,
   "id": "2b52b7a3-44c6-4884-85fd-6f29acde8901",
   "metadata": {},
   "outputs": [
    {
     "data": {
      "text/plain": [
       "numpy.ndarray"
      ]
     },
     "execution_count": 7,
     "metadata": {},
     "output_type": "execute_result"
    }
   ],
   "source": [
    "type(arreglo1)"
   ]
  },
  {
   "cell_type": "code",
   "execution_count": 9,
   "id": "69ad9716-815a-474b-b39d-92e28dc81c3f",
   "metadata": {},
   "outputs": [
    {
     "data": {
      "text/plain": [
       "array([[1, 2, 3],\n",
       "       [4, 5, 6],\n",
       "       [7, 8, 9]])"
      ]
     },
     "execution_count": 9,
     "metadata": {},
     "output_type": "execute_result"
    }
   ],
   "source": [
    "# Creacion de un arreglo a partir de una lista de listas \n",
    "lista2 = [[1,2,3],[4,5,6],[7,8,9]]\n",
    "arreglo2 = np.array(lista2)\n",
    "arreglo2"
   ]
  },
  {
   "cell_type": "code",
   "execution_count": 9,
   "id": "421637c3-f365-4e50-8608-128471f20ecd",
   "metadata": {},
   "outputs": [
    {
     "data": {
      "text/plain": [
       "['a', True, 1]"
      ]
     },
     "execution_count": 9,
     "metadata": {},
     "output_type": "execute_result"
    }
   ],
   "source": [
    "# Las listas pueden contener diversos tipos de datos \n",
    "lista = [\"a\", True, 1]\n",
    "lista"
   ]
  },
  {
   "cell_type": "code",
   "execution_count": 11,
   "id": "d74e2956-8787-47ac-9efe-131eee6b1c94",
   "metadata": {},
   "outputs": [
    {
     "data": {
      "text/plain": [
       "array(['a', 'True', '1'], dtype='<U11')"
      ]
     },
     "execution_count": 11,
     "metadata": {},
     "output_type": "execute_result"
    }
   ],
   "source": [
    "# Los arreglos solo pueden tener un mismo tipo de datos \n",
    "# usan menos espacion en memoria\n",
    "arreglo = np.array(lista)\n",
    "arreglo # solo se almacenarion textos"
   ]
  },
  {
   "cell_type": "code",
   "execution_count": 13,
   "id": "a61772fd-6e2e-4ba0-8791-1b729fbddfea",
   "metadata": {},
   "outputs": [
    {
     "data": {
      "text/plain": [
       "array([[0., 0., 0., 0.],\n",
       "       [0., 0., 0., 0.],\n",
       "       [0., 0., 0., 0.],\n",
       "       [0., 0., 0., 0.],\n",
       "       [0., 0., 0., 0.]])"
      ]
     },
     "execution_count": 13,
     "metadata": {},
     "output_type": "execute_result"
    }
   ],
   "source": [
    "# Creacion de arreglos con ceros\n",
    "arreglo3 = np.zeros((5,4))\n",
    "arreglo3"
   ]
  },
  {
   "cell_type": "code",
   "execution_count": 15,
   "id": "553a666c-b78b-4c54-8695-6f97e127c3c1",
   "metadata": {},
   "outputs": [
    {
     "data": {
      "text/plain": [
       "array([[0.48258567, 0.58983202],\n",
       "       [0.23549613, 0.21057174],\n",
       "       [0.19003539, 0.14287496]])"
      ]
     },
     "execution_count": 15,
     "metadata": {},
     "output_type": "execute_result"
    }
   ],
   "source": [
    "# Creacion de arreglo con numeros aleatorios uniformes entre 0 y 1 \n",
    "np.random.random((3,2))"
   ]
  },
  {
   "cell_type": "code",
   "execution_count": 17,
   "id": "57604fc9-2da5-4cc6-9c66-90bdc3d299cd",
   "metadata": {},
   "outputs": [
    {
     "data": {
      "text/plain": [
       "array([-2, -1,  0,  1,  2,  3,  4,  5,  6])"
      ]
     },
     "execution_count": 17,
     "metadata": {},
     "output_type": "execute_result"
    }
   ],
   "source": [
    "# Creacion de arreglos en un rango\n",
    "np.arange(-2,7)"
   ]
  },
  {
   "cell_type": "code",
   "execution_count": 19,
   "id": "facff2ec-06ad-41c2-9447-7afd149ccd08",
   "metadata": {},
   "outputs": [
    {
     "data": {
      "text/plain": [
       "array([0, 1, 2, 3, 4])"
      ]
     },
     "execution_count": 19,
     "metadata": {},
     "output_type": "execute_result"
    }
   ],
   "source": [
    "np.arange(5)"
   ]
  },
  {
   "cell_type": "code",
   "execution_count": 15,
   "id": "1c12ad13-2140-4a35-84f6-7d285c26abe9",
   "metadata": {},
   "outputs": [],
   "source": [
    "arreglo1 = np.array([[1,2],[5,7]])\n",
    "arreglo2 = np.array([[8,9],[5,7]])\n",
    "arreglo3 = np.array([[1,2],[5,7]])"
   ]
  },
  {
   "cell_type": "code",
   "execution_count": 19,
   "id": "c82132c7-138a-420a-a237-f802963ae085",
   "metadata": {},
   "outputs": [
    {
     "data": {
      "text/plain": [
       "array([[[1, 2],\n",
       "        [5, 7]],\n",
       "\n",
       "       [[8, 9],\n",
       "        [5, 7]],\n",
       "\n",
       "       [[1, 2],\n",
       "        [5, 7]]])"
      ]
     },
     "execution_count": 19,
     "metadata": {},
     "output_type": "execute_result"
    }
   ],
   "source": [
    "arreglo_3D = np.array([arreglo1,arreglo2,arreglo3])\n",
    "arreglo_3D"
   ]
  },
  {
   "cell_type": "code",
   "execution_count": 21,
   "id": "49323b0c-855d-4871-8941-2d66d87431e6",
   "metadata": {},
   "outputs": [
    {
     "data": {
      "text/plain": [
       "array([[0., 0., 0., 0.],\n",
       "       [0., 0., 0., 0.],\n",
       "       [0., 0., 0., 0.],\n",
       "       [0., 0., 0., 0.],\n",
       "       [0., 0., 0., 0.]])"
      ]
     },
     "execution_count": 21,
     "metadata": {},
     "output_type": "execute_result"
    }
   ],
   "source": [
    "arreglo3 = np.zeros((5,4))\n",
    "arreglo3"
   ]
  },
  {
   "cell_type": "code",
   "execution_count": 23,
   "id": "19650ebc-e981-4a6d-914f-deb291579703",
   "metadata": {},
   "outputs": [
    {
     "data": {
      "text/plain": [
       "(5, 4)"
      ]
     },
     "execution_count": 23,
     "metadata": {},
     "output_type": "execute_result"
    }
   ],
   "source": [
    "arreglo3.shape"
   ]
  },
  {
   "cell_type": "code",
   "execution_count": 25,
   "id": "7448c62a-aee5-4160-a16f-291ddeaefd82",
   "metadata": {},
   "outputs": [
    {
     "data": {
      "text/plain": [
       "array([[1, 2, 3],\n",
       "       [4, 5, 6],\n",
       "       [7, 8, 9]])"
      ]
     },
     "execution_count": 25,
     "metadata": {},
     "output_type": "execute_result"
    }
   ],
   "source": [
    "# Conversiones de arreglos multidimensional a unidimiensional\n",
    "lista2 = [[1,2,3],[4,5,6],[7,8,9]]\n",
    "\n",
    "arreglo2 = np.array(lista2)\n",
    "arreglo2\n"
   ]
  },
  {
   "cell_type": "code",
   "execution_count": 27,
   "id": "170b5aa6-426f-41c3-a94a-af27fb24d282",
   "metadata": {},
   "outputs": [
    {
     "data": {
      "text/plain": [
       "array([1, 2, 3, 4, 5, 6, 7, 8, 9])"
      ]
     },
     "execution_count": 27,
     "metadata": {},
     "output_type": "execute_result"
    }
   ],
   "source": [
    "arreglo2.flatten()"
   ]
  },
  {
   "cell_type": "code",
   "execution_count": 31,
   "id": "125eea03-0765-4ecc-a133-6e8119b54f51",
   "metadata": {},
   "outputs": [
    {
     "data": {
      "text/plain": [
       "array([[1, 2, 3],\n",
       "       [4, 5, 6]])"
      ]
     },
     "execution_count": 31,
     "metadata": {},
     "output_type": "execute_result"
    }
   ],
   "source": [
    "# Cambio de dimension de un arreglo \n",
    "arreglo = np.array([[1,2],[3,4],[5,6]])\n",
    "arreglo.reshape(2,3)"
   ]
  },
  {
   "cell_type": "code",
   "execution_count": 33,
   "id": "791f4725-8d81-4cf9-8cac-f9949d85d749",
   "metadata": {},
   "outputs": [
    {
     "ename": "ValueError",
     "evalue": "cannot reshape array of size 6 into shape (3,3)",
     "output_type": "error",
     "traceback": [
      "\u001b[1;31m---------------------------------------------------------------------------\u001b[0m",
      "\u001b[1;31mValueError\u001b[0m                                Traceback (most recent call last)",
      "Cell \u001b[1;32mIn[33], line 2\u001b[0m\n\u001b[0;32m      1\u001b[0m \u001b[38;5;66;03m# ejemplo de error al momento de cmabiar de dimension \u001b[39;00m\n\u001b[1;32m----> 2\u001b[0m arreglo\u001b[38;5;241m.\u001b[39mreshape(\u001b[38;5;241m3\u001b[39m,\u001b[38;5;241m3\u001b[39m)\n",
      "\u001b[1;31mValueError\u001b[0m: cannot reshape array of size 6 into shape (3,3)"
     ]
    }
   ],
   "source": [
    "# ejemplo de error al momento de cmabiar de dimension \n",
    "arreglo.reshape(3,3)"
   ]
  },
  {
   "cell_type": "markdown",
   "id": "f9d573f3-9634-46ed-8082-56ed61df9e82",
   "metadata": {},
   "source": [
    "#### Matrices y Tensores en NumPy"
   ]
  },
  {
   "cell_type": "code",
   "execution_count": 36,
   "id": "c9f2f734-5558-48fd-998f-89c1ee830e2a",
   "metadata": {},
   "outputs": [
    {
     "data": {
      "text/plain": [
       "dtype('float64')"
      ]
     },
     "execution_count": 36,
     "metadata": {},
     "output_type": "execute_result"
    }
   ],
   "source": [
    "np.array([1.25,2.43,200.88]).dtype"
   ]
  },
  {
   "cell_type": "code",
   "execution_count": 40,
   "id": "35f4b51c-7910-4fe1-9bcc-84ea5b9c1656",
   "metadata": {},
   "outputs": [
    {
     "data": {
      "text/plain": [
       "dtype('int32')"
      ]
     },
     "execution_count": 40,
     "metadata": {},
     "output_type": "execute_result"
    }
   ],
   "source": [
    "arreglo_int = np.array([[1,2,3],[4,5,6]])\n",
    "arreglo_int.dtype"
   ]
  },
  {
   "cell_type": "code",
   "execution_count": 42,
   "id": "24826de3-8090-4c55-80c6-01132e5f99f5",
   "metadata": {},
   "outputs": [
    {
     "data": {
      "text/plain": [
       "dtype('<U12')"
      ]
     },
     "execution_count": 42,
     "metadata": {},
     "output_type": "execute_result"
    }
   ],
   "source": [
    "arreglo_string = np.array([\"Introduccion\",\"a\",\"la\",\"programacion\"])\n",
    "arreglo_string.dtype"
   ]
  },
  {
   "cell_type": "code",
   "execution_count": 48,
   "id": "f30079bc-90f0-4e1b-b253-86a501ef094f",
   "metadata": {},
   "outputs": [
    {
     "data": {
      "text/plain": [
       "dtype('float32')"
      ]
     },
     "execution_count": 48,
     "metadata": {},
     "output_type": "execute_result"
    }
   ],
   "source": [
    "# Uso de dtype como argumento\n",
    "arreglo = np.array([1.25,2.43,200.88], dtype = np.float32) # Mismo arreglo de arrriba\n",
    "arreglo.dtype"
   ]
  },
  {
   "cell_type": "code",
   "execution_count": 52,
   "id": "5c8459bd-d461-4e15-ba0e-1d75a7f9c5b8",
   "metadata": {},
   "outputs": [
    {
     "data": {
      "text/plain": [
       "dtype('bool')"
      ]
     },
     "execution_count": 52,
     "metadata": {},
     "output_type": "execute_result"
    }
   ],
   "source": [
    "# Cambio de tipo de arreglo \n",
    "arreglo_boleano = np.array([[True, False]], dtype = np.bool_)\n",
    "arreglo_boleano.dtype"
   ]
  },
  {
   "cell_type": "code",
   "execution_count": 62,
   "id": "7e123ebd-21ef-40c2-9b8b-32e9b0824eac",
   "metadata": {},
   "outputs": [
    {
     "data": {
      "text/plain": [
       "array([[1, 0]])"
      ]
     },
     "execution_count": 62,
     "metadata": {},
     "output_type": "execute_result"
    }
   ],
   "source": [
    "arreglo = arreglo_boleano.astype(np.int32)\n",
    "arreglo"
   ]
  },
  {
   "cell_type": "code",
   "execution_count": 64,
   "id": "955de8f7-5828-4343-b30b-897b4523a953",
   "metadata": {},
   "outputs": [
    {
     "data": {
      "text/plain": [
       "dtype('float64')"
      ]
     },
     "execution_count": 64,
     "metadata": {},
     "output_type": "execute_result"
    }
   ],
   "source": [
    "# Homologacion del tipo por jerarquia \n",
    "np.array([0,50,50.8]).dtype"
   ]
  },
  {
   "cell_type": "code",
   "execution_count": 66,
   "id": "4bb9b320-bb93-4b5e-b04f-8e69462fe1f0",
   "metadata": {},
   "outputs": [
    {
     "data": {
      "text/plain": [
       "array([ 0, 42])"
      ]
     },
     "execution_count": 66,
     "metadata": {},
     "output_type": "execute_result"
    }
   ],
   "source": [
    "np.array([False,42])\n",
    "# Los valores que menos espacio ocupan son los boleanos - enteros - flotantes - cadenas alfanumericas strings "
   ]
  },
  {
   "cell_type": "code",
   "execution_count": null,
   "id": "d68231b3-7b45-4582-a0d7-449cadaeab60",
   "metadata": {},
   "outputs": [],
   "source": []
  }
 ],
 "metadata": {
  "kernelspec": {
   "display_name": "Python 3 (ipykernel)",
   "language": "python",
   "name": "python3"
  },
  "language_info": {
   "codemirror_mode": {
    "name": "ipython",
    "version": 3
   },
   "file_extension": ".py",
   "mimetype": "text/x-python",
   "name": "python",
   "nbconvert_exporter": "python",
   "pygments_lexer": "ipython3",
   "version": "3.12.7"
  }
 },
 "nbformat": 4,
 "nbformat_minor": 5
}
