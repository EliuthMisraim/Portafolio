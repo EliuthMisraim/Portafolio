{
 "cells": [
  {
   "cell_type": "code",
   "execution_count": 2,
   "id": "396bef37-cb5c-45a4-a3de-2e2caad750f2",
   "metadata": {},
   "outputs": [
    {
     "name": "stdout",
     "output_type": "stream",
     "text": [
      "La suma es 48\n"
     ]
    }
   ],
   "source": [
    "numeros = [ 6, 5, 3, 8, 4, 2, 5, 4, 11]\n",
    "suma = 0 \n",
    "for valor in numeros :\n",
    "    suma = suma + valor\n",
    "print(\"La suma es\", suma)"
   ]
  },
  {
   "cell_type": "markdown",
   "id": "05797acf-b2c6-478b-b30f-02fe623f168c",
   "metadata": {},
   "source": [
    "Una alternativa mas a como usar la funcion print"
   ]
  },
  {
   "cell_type": "code",
   "execution_count": 6,
   "id": "6cba9013-830e-44b2-bb21-bfb0c9537365",
   "metadata": {},
   "outputs": [
    {
     "name": "stdout",
     "output_type": "stream",
     "text": [
      "La suma es 48\n"
     ]
    }
   ],
   "source": [
    "numeros = [ 6, 5, 3, 8, 4, 2, 5, 4, 11]\n",
    "suma = 0 \n",
    "for valor in numeros :\n",
    "    suma = suma + valor\n",
    "print(f\"La suma es {suma}\")\n"
   ]
  },
  {
   "cell_type": "code",
   "execution_count": 8,
   "id": "0a1c7466-277d-4ac3-9071-b83b885bc744",
   "metadata": {},
   "outputs": [
    {
     "name": "stdout",
     "output_type": "stream",
     "text": [
      "manzana\n",
      "fresa\n",
      "cereza\n"
     ]
    }
   ],
   "source": [
    "frutas = ['manzana', 'fresa', 'cereza']\n",
    "for fruta in frutas:\n",
    "    print(fruta)\n",
    "    "
   ]
  },
  {
   "cell_type": "code",
   "execution_count": 10,
   "id": "9a3eb28e-969f-4fda-ae20-d1fd637d60c4",
   "metadata": {},
   "outputs": [
    {
     "name": "stdout",
     "output_type": "stream",
     "text": [
      "p\n",
      "l\n",
      "a\n",
      "t\n",
      "a\n",
      "n\n",
      "o\n"
     ]
    }
   ],
   "source": [
    "for letra in \"platano\":\n",
    "    print (letra)"
   ]
  },
  {
   "cell_type": "markdown",
   "id": "e14b9007-504c-4301-a30e-4b160a3e9d02",
   "metadata": {},
   "source": [
    "al comando for se le puede asignar cualquier variable por eso es progrmaacion orientada a objetos"
   ]
  },
  {
   "cell_type": "code",
   "execution_count": 12,
   "id": "a3cb80d5-2040-43b0-8819-d1387a7759a9",
   "metadata": {},
   "outputs": [
    {
     "name": "stdout",
     "output_type": "stream",
     "text": [
      "5\n",
      "7\n",
      "11\n",
      "13\n",
      "Total:  36\n"
     ]
    }
   ],
   "source": [
    "total = 0 \n",
    "for i in 5, 7, 11, 13:\n",
    "    print(i)\n",
    "    #se puede utilizar += para reemplazar total = total + i\n",
    "    total += i\n",
    "print(\"Total: \", total)\n"
   ]
  },
  {
   "cell_type": "markdown",
   "id": "28e137fe-726f-4cf1-9237-0464a6e43d24",
   "metadata": {},
   "source": [
    "comando RANGE el valor que se pone como limite superior no se contempla en la evaluacion"
   ]
  },
  {
   "cell_type": "code",
   "execution_count": 14,
   "id": "11bcca91-3b21-4d02-aab3-1817a99eb0a0",
   "metadata": {},
   "outputs": [
    {
     "name": "stdout",
     "output_type": "stream",
     "text": [
      "0\n",
      "1\n",
      "2\n",
      "3\n",
      "4\n",
      "5\n"
     ]
    }
   ],
   "source": [
    "for x in range(6):\n",
    "    print(x)"
   ]
  },
  {
   "cell_type": "markdown",
   "id": "4c4950c1-790d-4a12-a7ad-fc3faec41392",
   "metadata": {},
   "source": [
    "para especificar que numeros en el rango se quieren evaluar en range se asigna el rango"
   ]
  },
  {
   "cell_type": "code",
   "execution_count": 21,
   "id": "6559f791-b052-46e4-acbb-3d19ff4d37f7",
   "metadata": {},
   "outputs": [
    {
     "name": "stdout",
     "output_type": "stream",
     "text": [
      "2\n",
      "3\n",
      "4\n",
      "5\n",
      "6\n",
      "7\n",
      "8\n",
      "9\n"
     ]
    }
   ],
   "source": [
    "for x in range(2,10):\n",
    "    print(x)"
   ]
  },
  {
   "cell_type": "markdown",
   "id": "3ab1c281-9280-461c-9657-1a3befb9596d",
   "metadata": {},
   "source": [
    "se pueden manejar incrementos distintos a la unidad "
   ]
  },
  {
   "cell_type": "code",
   "execution_count": 25,
   "id": "59296c20-49a1-4148-9771-5aacbab31f02",
   "metadata": {},
   "outputs": [
    {
     "name": "stdout",
     "output_type": "stream",
     "text": [
      "2\n",
      "5\n",
      "8\n"
     ]
    }
   ],
   "source": [
    "for x in range (2,10,3):\n",
    "    print(x)"
   ]
  },
  {
   "cell_type": "markdown",
   "id": "1488518c-e680-4784-b0d0-ba3be4968cfc",
   "metadata": {},
   "source": [
    "en el comando for se puese utilizar el comando else se utiliza en el caso de que ya nos hayamos salido de un ciclo"
   ]
  },
  {
   "cell_type": "code",
   "execution_count": 30,
   "id": "f77df4a4-ec7a-491e-bf66-67b54ddc0eba",
   "metadata": {},
   "outputs": [
    {
     "name": "stdout",
     "output_type": "stream",
     "text": [
      "0\n",
      "1\n",
      "2\n",
      "3\n",
      "4\n",
      "5\n",
      "Proceso terminado\n"
     ]
    }
   ],
   "source": [
    "for x in range(6):\n",
    "    print(x)\n",
    "else:\n",
    "    print (\"Proceso terminado\")"
   ]
  },
  {
   "cell_type": "code",
   "execution_count": null,
   "id": "c046a3fc-0ed6-4268-8fb0-ca30c653e9b9",
   "metadata": {},
   "outputs": [],
   "source": []
  }
 ],
 "metadata": {
  "kernelspec": {
   "display_name": "Python 3 (ipykernel)",
   "language": "python",
   "name": "python3"
  },
  "language_info": {
   "codemirror_mode": {
    "name": "ipython",
    "version": 3
   },
   "file_extension": ".py",
   "mimetype": "text/x-python",
   "name": "python",
   "nbconvert_exporter": "python",
   "pygments_lexer": "ipython3",
   "version": "3.12.7"
  }
 },
 "nbformat": 4,
 "nbformat_minor": 5
}
