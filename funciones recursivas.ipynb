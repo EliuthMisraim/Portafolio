{
 "cells": [
  {
   "cell_type": "code",
   "execution_count": 2,
   "id": "46fcce12-d450-41b0-9b89-888a34d725a1",
   "metadata": {},
   "outputs": [
    {
     "name": "stdout",
     "output_type": "stream",
     "text": [
      "1\n",
      "2\n",
      "3\n"
     ]
    }
   ],
   "source": [
    "def imprimir(x):\n",
    "    if x > 0:\n",
    "        imprimir(x-1)\n",
    "        print(x)\n",
    "\n",
    "imprimir(3)"
   ]
  },
  {
   "cell_type": "markdown",
   "id": "dd153b41-5511-441b-baf6-f36b27038da3",
   "metadata": {},
   "source": [
    "#### suma de listas Recursivas"
   ]
  },
  {
   "cell_type": "code",
   "execution_count": 5,
   "id": "d3681515-db09-4971-9ff1-0e680cb05cb0",
   "metadata": {},
   "outputs": [
    {
     "name": "stdout",
     "output_type": "stream",
     "text": [
      "25\n"
     ]
    }
   ],
   "source": [
    "\n",
    "#Suma una lista sin Recursividad\n",
    "def suma(lista):\n",
    "    suma = 0 \n",
    "    for i in range(0,len(lista)):\n",
    "        suma = suma + lista[i]\n",
    "    return suma \n",
    "\n",
    "print(suma([6,3,4,2,10]))"
   ]
  },
  {
   "cell_type": "code",
   "execution_count": 7,
   "id": "bcace5e7-4756-4ca0-8277-2fb572a16f9c",
   "metadata": {},
   "outputs": [
    {
     "name": "stdout",
     "output_type": "stream",
     "text": [
      "25\n"
     ]
    }
   ],
   "source": [
    "#version recursiva \n",
    "def suma(lista):\n",
    "    if len(lista) == 1:\n",
    "        return lista[0]\n",
    "    else:\n",
    "        return lista[0] + suma(lista[1:])\n",
    "print(suma([6,3,4,2,10]))"
   ]
  },
  {
   "cell_type": "markdown",
   "id": "3a71b352-c5a1-47e8-a9e8-69892c6cddd0",
   "metadata": {},
   "source": [
    "##### Ejercicio: Desarrolle una funcion Recursiva en Phyton que permita al usuario obtener el factorial de un numero n\n",
    "##### Nota: Recordemos que : n! = 1(2(3)...n\n",
    "##### => n! = n(n-1)!"
   ]
  },
  {
   "cell_type": "code",
   "execution_count": 9,
   "id": "48465d68-8b7b-4584-9c10-6092b6a27040",
   "metadata": {},
   "outputs": [
    {
     "name": "stdout",
     "output_type": "stream",
     "text": [
      "3628800\n"
     ]
    }
   ],
   "source": [
    "def factorial(n):\n",
    "    if n == 1:\n",
    "        return 1\n",
    "    else:\n",
    "        return n * factorial(n-1)\n",
    "print(factorial(10))"
   ]
  },
  {
   "cell_type": "code",
   "execution_count": 4,
   "id": "be142254-a276-4c65-9388-df0525f01ec9",
   "metadata": {},
   "outputs": [
    {
     "ename": "NameError",
     "evalue": "name 'factorial' is not defined",
     "output_type": "error",
     "traceback": [
      "\u001b[1;31m---------------------------------------------------------------------------\u001b[0m",
      "\u001b[1;31mNameError\u001b[0m                                 Traceback (most recent call last)",
      "Cell \u001b[1;32mIn[4], line 2\u001b[0m\n\u001b[0;32m      1\u001b[0m \u001b[38;5;66;03m# Cuidado \u001b[39;00m\n\u001b[1;32m----> 2\u001b[0m \u001b[38;5;28mprint\u001b[39m(factorial(\u001b[38;5;241m4200\u001b[39m))\n",
      "\u001b[1;31mNameError\u001b[0m: name 'factorial' is not defined"
     ]
    }
   ],
   "source": [
    "# Cuidado con imprimir valores que excedan la memoria de la computadora \n",
    "print(factorial(4200))"
   ]
  },
  {
   "cell_type": "code",
   "execution_count": null,
   "id": "bfe72646-3393-4877-8408-1ef83a0cc776",
   "metadata": {},
   "outputs": [],
   "source": []
  }
 ],
 "metadata": {
  "kernelspec": {
   "display_name": "Python 3 (ipykernel)",
   "language": "python",
   "name": "python3"
  },
  "language_info": {
   "codemirror_mode": {
    "name": "ipython",
    "version": 3
   },
   "file_extension": ".py",
   "mimetype": "text/x-python",
   "name": "python",
   "nbconvert_exporter": "python",
   "pygments_lexer": "ipython3",
   "version": "3.12.7"
  }
 },
 "nbformat": 4,
 "nbformat_minor": 5
}
