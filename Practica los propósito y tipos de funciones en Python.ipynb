{
 "cells": [
  {
   "cell_type": "code",
   "execution_count": 4,
   "id": "f8ea3b9e-7b69-4adc-9b65-4fe03344628a",
   "metadata": {},
   "outputs": [
    {
     "data": {
      "text/plain": [
       "[3, 6, 9, 12, 15, 18, 21, 24, 27, 30]"
      ]
     },
     "execution_count": 4,
     "metadata": {},
     "output_type": "execute_result"
    }
   ],
   "source": [
    "def tabla_del(numero):\n",
    "    resultados = []\n",
    "    # agregamos un ciclo\n",
    "    for i in range (1,11):\n",
    "        # utilizamos append para aumentar en tama;o de la lista el comando append en espanol es adjuntar \n",
    "        resultados.append(numero * i)\n",
    "    return resultados\n",
    "\n",
    "tabla_del(3)"
   ]
  },
  {
   "cell_type": "code",
   "execution_count": 8,
   "id": "602e7bfa-3c83-4b3e-be3f-c271d14bbf91",
   "metadata": {},
   "outputs": [
    {
     "name": "stdout",
     "output_type": "stream",
     "text": [
      "[1, 2, 3, 4, 5, 6, 7, 8, 9, 10]\n",
      "[2, 4, 6, 8, 10, 12, 14, 16, 18, 20]\n",
      "[3, 6, 9, 12, 15, 18, 21, 24, 27, 30]\n",
      "[4, 8, 12, 16, 20, 24, 28, 32, 36, 40]\n",
      "[5, 10, 15, 20, 25, 30, 35, 40, 45, 50]\n",
      "[6, 12, 18, 24, 30, 36, 42, 48, 54, 60]\n",
      "[7, 14, 21, 28, 35, 42, 49, 56, 63, 70]\n",
      "[8, 16, 24, 32, 40, 48, 56, 64, 72, 80]\n",
      "[9, 18, 27, 36, 45, 54, 63, 72, 81, 90]\n",
      "[10, 20, 30, 40, 50, 60, 70, 80, 90, 100]\n"
     ]
    }
   ],
   "source": [
    "def tabla_del(numero):\n",
    "    resultados = []\n",
    "    # agregamos un ciclo\n",
    "    for i in range (1,11):\n",
    "        # utilizamos append para aumentar en tama;o de la lista el comando append en espanol es adjuntar \n",
    "        resultados.append(numero * i)\n",
    "    return resultados\n",
    "\n",
    "for valor in range(1,11):\n",
    "    print(tabla_del(valor))\n"
   ]
  },
  {
   "cell_type": "code",
   "execution_count": 16,
   "id": "8a6e06f8-efce-49f0-a2ca-514c9f206062",
   "metadata": {},
   "outputs": [
    {
     "name": "stdout",
     "output_type": "stream",
     "text": [
      "False\n"
     ]
    }
   ],
   "source": [
    "#Comenzamos definiendo nuestra funcion donde el resultado de entrada es una cadena\n",
    "def Palindromo(cadena):\n",
    "    #definimos posiciones iniciales o valores de inicializacion\n",
    "    izquierda = 0\n",
    "    # definimos el valor inicial del lado derecho como la longitud de la cadena menos 1 \n",
    "    derecha = len(cadena) - 1\n",
    "    # agregamos la regla del programa donde mientras se cumple que la posicion de la derecha sea mayor o igual que la de la izquierda\n",
    "    while derecha >= izquierda:\n",
    "        # asignamos la salida en caso de que no se cumpla la condicion si no se cumple que la cadena en la posicion izquierda sea igual \n",
    "        #a lo que tengo en la cadena de la posicion derecha regresar el resultado de \"FALSO\"\n",
    "        if not (cadena[izquierda] == cadena [derecha]):\n",
    "            return False\n",
    "        #en caso de que sean iguales tengo que avanzar de izquierda a derecha aumentando en una unidad la posicion (izquierda mas 1)\n",
    "        izquierda += 1\n",
    "        # en el caso de la derecha la tengo que decrementar (izquierda menos 1)\n",
    "        derecha -= 1\n",
    "    return True\n",
    "\n",
    "print(Palindromo(\"Rayar\"))\n",
    "        "
   ]
  },
  {
   "cell_type": "code",
   "execution_count": 20,
   "id": "14b38eb2-f83d-45be-944e-6384f9ac0730",
   "metadata": {},
   "outputs": [
    {
     "name": "stdout",
     "output_type": "stream",
     "text": [
      "True\n"
     ]
    }
   ],
   "source": [
    "# version  2 que resuelve el problema de tener letras en mayusculas y el resultado sea arroneo \n",
    "def Palindromo2(cadena):\n",
    "\n",
    "    izquierda = 0\n",
    "\n",
    "    derecha = len(cadena) - 1\n",
    "\n",
    "    while derecha >= izquierda:\n",
    "        # a;adimos .lower para modificar las letras que esten en mayusculas a minusculas automaticamente \n",
    "        if not (cadena[izquierda].lower() == cadena [derecha].lower()):\n",
    "            return False\n",
    "\n",
    "        izquierda += 1\n",
    "\n",
    "        derecha -= 1\n",
    "    return True\n",
    "\n",
    "print(Palindromo2(\"Rayar\"))"
   ]
  },
  {
   "cell_type": "code",
   "execution_count": null,
   "id": "f674fe3e-5f81-4048-a386-c56ebb20e4cd",
   "metadata": {},
   "outputs": [],
   "source": []
  }
 ],
 "metadata": {
  "kernelspec": {
   "display_name": "Python 3 (ipykernel)",
   "language": "python",
   "name": "python3"
  },
  "language_info": {
   "codemirror_mode": {
    "name": "ipython",
    "version": 3
   },
   "file_extension": ".py",
   "mimetype": "text/x-python",
   "name": "python",
   "nbconvert_exporter": "python",
   "pygments_lexer": "ipython3",
   "version": "3.12.7"
  }
 },
 "nbformat": 4,
 "nbformat_minor": 5
}
