{
 "cells": [
  {
   "cell_type": "markdown",
   "id": "41188b28-3c2e-4125-9509-79944651998d",
   "metadata": {},
   "source": [
    "Ejercicio de aplicacion de clases: \n",
    "Desarrolle una clase en python que permita al usuario calcular la suma de dos numeros complejos "
   ]
  },
  {
   "cell_type": "code",
   "execution_count": 7,
   "id": "d227a9fb-3224-48d0-ab18-5f347af7f342",
   "metadata": {},
   "outputs": [],
   "source": [
    "# suma de dos numeros complejos \n",
    "class complejo:\n",
    "    def __init__(self, real, imaginario):\n",
    "        self.real = real\n",
    "        self.imaginario = imaginario\n",
    "\n",
    "    def agregar(self, numero):\n",
    "        real = self.real + numero.real\n",
    "        imaginario = self.imaginario + numero.imaginario\n",
    "        resultado = complejo(real, imaginario)\n",
    "        return resultado"
   ]
  },
  {
   "cell_type": "code",
   "execution_count": 11,
   "id": "912bb142-2690-434a-87f5-90ada3e50982",
   "metadata": {},
   "outputs": [
    {
     "name": "stdout",
     "output_type": "stream",
     "text": [
      "Parte real: 5\n",
      "Parte imaginaria: 7\n"
     ]
    }
   ],
   "source": [
    "numero1 = complejo(2,3)\n",
    "numero2 = complejo(3,4)\n",
    "\n",
    "suma = numero1.agregar(numero2)\n",
    "print(\"Parte real:\", suma.real)\n",
    "print(\"Parte imaginaria:\", suma.imaginario)"
   ]
  },
  {
   "cell_type": "code",
   "execution_count": 13,
   "id": "09aad09c-3578-438c-9429-e9576504ce4d",
   "metadata": {},
   "outputs": [
    {
     "ename": "NameError",
     "evalue": "name 'numero1' is not defined",
     "output_type": "error",
     "traceback": [
      "\u001b[1;31m---------------------------------------------------------------------------\u001b[0m",
      "\u001b[1;31mNameError\u001b[0m                                 Traceback (most recent call last)",
      "Cell \u001b[1;32mIn[13], line 2\u001b[0m\n\u001b[0;32m      1\u001b[0m \u001b[38;5;28;01mdel\u001b[39;00m numero1\n\u001b[1;32m----> 2\u001b[0m numero1\n",
      "\u001b[1;31mNameError\u001b[0m: name 'numero1' is not defined"
     ]
    }
   ],
   "source": [
    "# se puede eliminar objetos definidos anteriormente con el comando \"del\" \n",
    "del numero1\n",
    "numero1"
   ]
  },
  {
   "cell_type": "code",
   "execution_count": 15,
   "id": "14805465-78b7-459f-afc5-23c9bdd90a7b",
   "metadata": {},
   "outputs": [
    {
     "name": "stdout",
     "output_type": "stream",
     "text": [
      "Hola! Mi nombre es: Juan\n"
     ]
    }
   ],
   "source": [
    "# la referencia \"self\" puede tomar cualquier otra denominacion\n",
    "class Persona:\n",
    "    def __init__(objeto, nombre, edad):\n",
    "        objeto.nombre = nombre\n",
    "        objeto.edad = edad \n",
    "\n",
    "    def mensaje(objeto):\n",
    "        print(\"Hola! Mi nombre es: \" + objeto.nombre)\n",
    "\n",
    "persona1 = Persona(\"Juan\", 36)\n",
    "persona1.mensaje()"
   ]
  },
  {
   "cell_type": "markdown",
   "id": "17d39478-8984-4bd4-8f2b-eca6a7374207",
   "metadata": {},
   "source": [
    "Ejercicio 2 aplicacion de FUNCIONES: Crea una clase denominada \"Triangulo\". Crea un objeto a partir de dicha clase, el cual debera tener los atributos a, b, c\n",
    "que representan los lados del triangulo\n",
    "La clase \"Triangulo\" debera tener 2 metodos:\n",
    "1 El constructor init se usara para inicializar los lados del triangulo\n",
    "2 elmetodo perim que debera usarse para calcular el perimetro total del triangulo\n",
    "El perimetro del triangulo debera ser impreso desde fuera de la clase \n"
   ]
  },
  {
   "cell_type": "code",
   "execution_count": 18,
   "id": "97336af1-66c9-4c38-9528-0692f0222e94",
   "metadata": {},
   "outputs": [],
   "source": [
    "class Triangulo:\n",
    "    def __init__(self, a, b, c):\n",
    "        self.a = a\n",
    "        self.b = b\n",
    "        self.c = c\n",
    "\n",
    "    def perim(self):\n",
    "        return self.a + self.b + self.c"
   ]
  },
  {
   "cell_type": "code",
   "execution_count": 22,
   "id": "3fd68f0b-b601-4cda-b42e-34ff399a883b",
   "metadata": {},
   "outputs": [
    {
     "name": "stdout",
     "output_type": "stream",
     "text": [
      "9\n"
     ]
    }
   ],
   "source": [
    "triangulo1 = Triangulo(2,3,4)\n",
    "perimetro1 = triangulo1.perim()\n",
    "print(perimetro1)"
   ]
  },
  {
   "cell_type": "code",
   "execution_count": null,
   "id": "f1bbc43d-4a8b-47da-bc7d-62d8b4ecafcf",
   "metadata": {},
   "outputs": [],
   "source": []
  }
 ],
 "metadata": {
  "kernelspec": {
   "display_name": "Python 3 (ipykernel)",
   "language": "python",
   "name": "python3"
  },
  "language_info": {
   "codemirror_mode": {
    "name": "ipython",
    "version": 3
   },
   "file_extension": ".py",
   "mimetype": "text/x-python",
   "name": "python",
   "nbconvert_exporter": "python",
   "pygments_lexer": "ipython3",
   "version": "3.12.7"
  }
 },
 "nbformat": 4,
 "nbformat_minor": 5
}
