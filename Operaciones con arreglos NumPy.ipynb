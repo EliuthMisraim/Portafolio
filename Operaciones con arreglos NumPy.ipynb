{
 "cells": [
  {
   "cell_type": "markdown",
   "id": "13bdd552-0f1d-40a0-9a74-4f80ad12c08b",
   "metadata": {},
   "source": [
    "#### Operaciones con arreglos en Numpy"
   ]
  },
  {
   "cell_type": "code",
   "execution_count": 6,
   "id": "708ac94a-2e91-4b38-92e8-29353cbb77f7",
   "metadata": {},
   "outputs": [],
   "source": [
    "import numpy as np\n",
    "accidentes = np.array([[0,1,1],[1,0,1],[1,3,2],[2,2,0]])"
   ]
  },
  {
   "cell_type": "code",
   "execution_count": 8,
   "id": "79fab050-097f-4c23-a968-92214fde0ae2",
   "metadata": {},
   "outputs": [
    {
     "data": {
      "text/plain": [
       "14"
      ]
     },
     "execution_count": 8,
     "metadata": {},
     "output_type": "execute_result"
    }
   ],
   "source": [
    "# a) El numero total de accidentes durante los cuatro años \n",
    "accidentes.sum()"
   ]
  },
  {
   "cell_type": "code",
   "execution_count": 10,
   "id": "2592e6b7-f9c8-4580-91fa-3aee2c5494f6",
   "metadata": {},
   "outputs": [
    {
     "data": {
      "text/plain": [
       "array([4, 6, 4])"
      ]
     },
     "execution_count": 10,
     "metadata": {},
     "output_type": "execute_result"
    }
   ],
   "source": [
    "# b) el numero total de accidentes por area (por columna)\n",
    "accid_areas = accidentes.sum(axis=0)\n",
    "accid_areas"
   ]
  },
  {
   "cell_type": "code",
   "execution_count": 14,
   "id": "cbdddc2b-960b-45cc-8eef-c20bdd7f9d33",
   "metadata": {},
   "outputs": [
    {
     "name": "stdout",
     "output_type": "stream",
     "text": [
      "Los accidenntes del area 1:  4\n",
      "Los accidenntes del area 2:  6\n",
      "Los accidenntes del area 3:  4\n"
     ]
    }
   ],
   "source": [
    "print(\"Los accidenntes del area 1: \", accid_areas[0])\n",
    "print(\"Los accidenntes del area 2: \", accid_areas[1])\n",
    "print(\"Los accidenntes del area 3: \", accid_areas[2])"
   ]
  },
  {
   "cell_type": "code",
   "execution_count": 16,
   "id": "589e847d-9c37-4008-9462-f3be84466dd7",
   "metadata": {},
   "outputs": [
    {
     "data": {
      "text/plain": [
       "array([2, 2, 6, 4])"
      ]
     },
     "execution_count": 16,
     "metadata": {},
     "output_type": "execute_result"
    }
   ],
   "source": [
    "# c) el numero total de accidentes por año (por renglon)\n",
    "accid_anios = accidentes.sum(axis=1)\n",
    "accid_anios"
   ]
  },
  {
   "cell_type": "code",
   "execution_count": 28,
   "id": "8814aab5-a436-4a38-a2b9-0bdfa0e3b7df",
   "metadata": {},
   "outputs": [
    {
     "data": {
      "text/plain": [
       "array([[2],\n",
       "       [2],\n",
       "       [6],\n",
       "       [4]])"
      ]
     },
     "execution_count": 28,
     "metadata": {},
     "output_type": "execute_result"
    }
   ],
   "source": [
    "# c) el numero total de accidentes por año (por renglon)\n",
    "accid_anios = accidentes.sum(axis=1, keepdims=True)\n",
    "accid_anios"
   ]
  },
  {
   "cell_type": "code",
   "execution_count": 34,
   "id": "4eec9ea2-f8e9-4b13-8922-58934c9169c8",
   "metadata": {},
   "outputs": [
    {
     "name": "stdout",
     "output_type": "stream",
     "text": [
      "Los accidenntes del año 1:  [2]\n",
      "Los accidenntes del año 2:  [2]\n",
      "Los accidenntes del año 3:  [6]\n",
      "Los accidenntes del año 4:  [4]\n"
     ]
    }
   ],
   "source": [
    "print(\"Los accidenntes del año 1: \", accid_anios[0])\n",
    "print(\"Los accidenntes del año 2: \", accid_anios[1]) \n",
    "print(\"Los accidenntes del año 3: \", accid_anios[2]) \n",
    "print(\"Los accidenntes del año 4: \", accid_anios[3]) "
   ]
  },
  {
   "cell_type": "code",
   "execution_count": 36,
   "id": "7238021e-24f4-45d8-a9f8-922ba0b1986e",
   "metadata": {},
   "outputs": [
    {
     "name": "stdout",
     "output_type": "stream",
     "text": [
      "Maximo de accidentes: 3\n",
      "Minimo de accidentes: 0\n"
     ]
    }
   ],
   "source": [
    "# El numero maximo y minimo de accidentes por area y año\n",
    "maximo = accidentes.max()\n",
    "minimo = accidentes.min()\n",
    "print(f\"Maximo de accidentes: {maximo}\")\n",
    "print(f\"Minimo de accidentes: {minimo}\")\n"
   ]
  },
  {
   "cell_type": "code",
   "execution_count": 38,
   "id": "12fe9a8e-73e7-4290-8ff1-e1d122f3386b",
   "metadata": {},
   "outputs": [
    {
     "name": "stdout",
     "output_type": "stream",
     "text": [
      "Promedio de accidentes: 1.1666666666666667\n"
     ]
    }
   ],
   "source": [
    "# El numero promedio de accidentes por area \n",
    "promedio = accidentes.mean()\n",
    "print(f\"Promedio de accidentes: {promedio}\")"
   ]
  },
  {
   "cell_type": "markdown",
   "id": "bc4cd01d-2209-4971-97de-faa7250460bf",
   "metadata": {
    "jp-MarkdownHeadingCollapsed": true
   },
   "source": [
    "#### Operaciones Vectorizadas"
   ]
  },
  {
   "cell_type": "markdown",
   "id": "c1ee00a2-3973-4cc4-94b0-aacd58204d7a",
   "metadata": {},
   "source": [
    "##### Determine la suma descrita mediante un ciclo en python y una funcion vectorizada de NumPy"
   ]
  },
  {
   "cell_type": "code",
   "execution_count": 47,
   "id": "2e33ef24-5462-4ff2-98bc-48637438d4b3",
   "metadata": {},
   "outputs": [
    {
     "name": "stdout",
     "output_type": "stream",
     "text": [
      "2\n",
      "3\n",
      "1\n"
     ]
    }
   ],
   "source": [
    "# Definimos el arreglo \n",
    "arreglo = np.array([[1,2,3],[4,5,6]])\n",
    "dimensiones = arreglo.shape\n",
    "print(dimensiones[0]) # Renglones \n",
    "print(dimensiones[1]) # Columnas \n",
    "print(arreglo[0][0])"
   ]
  },
  {
   "cell_type": "code",
   "execution_count": 57,
   "id": "7fbbb0ac-f2c4-4a86-9d72-6963802e7cb3",
   "metadata": {},
   "outputs": [
    {
     "name": "stdout",
     "output_type": "stream",
     "text": [
      "[[4. 5. 6.]\n",
      " [7. 8. 9.]]\n",
      "Tiempo total de ejecucion(Segundos.) 0.000997304916381836\n"
     ]
    }
   ],
   "source": [
    "# Determine la suma del arreglo mediante un ciclo en Python\n",
    "import time \n",
    "inicio = time.time()\n",
    "\n",
    "arreglo_final = np.zeros((2,3))\n",
    "for renglon in range (dimensiones[0]):\n",
    "    for columna in range(dimensiones[1]):\n",
    "        arreglo_final[renglon][columna] = arreglo[renglon][columna] + 3 \n",
    "print(arreglo_final)\n",
    "fin = time.time()\n",
    "print(\"Tiempo total de ejecucion(Segundos.)\", fin - inicio)"
   ]
  },
  {
   "cell_type": "code",
   "execution_count": 59,
   "id": "bd06e370-d593-42c6-b7e5-108bfbfdba89",
   "metadata": {},
   "outputs": [
    {
     "name": "stdout",
     "output_type": "stream",
     "text": [
      "[[4 5 6]\n",
      " [7 8 9]]\n",
      "Tiempo total de ejecucion(Segundos.) 0.000997304916381836\n"
     ]
    }
   ],
   "source": [
    "# determine la suma del arreglo mediante una funcion vectorizada de NumPy\n",
    "import time \n",
    "inicio = time.time()\n",
    "\n",
    "arreglo_final = arreglo + 3 \n",
    "print(arreglo_final)\n",
    "fin = time.time()\n",
    "print(\"Tiempo total de ejecucion(Segundos.)\", fin - inicio)"
   ]
  },
  {
   "cell_type": "markdown",
   "id": "316f4def-a97a-49c0-a471-43e9f146185c",
   "metadata": {},
   "source": [
    "#### Broadcasting"
   ]
  },
  {
   "cell_type": "markdown",
   "id": "fdac534a-4482-4390-93e6-578082351c2b",
   "metadata": {},
   "source": [
    "##### Adicion de dos arreglos"
   ]
  },
  {
   "cell_type": "code",
   "execution_count": 68,
   "id": "b4b1ee8e-cecc-4370-83c7-f33292ce98e8",
   "metadata": {},
   "outputs": [
    {
     "data": {
      "text/plain": [
       "array([[ 8, 10, 12],\n",
       "       [14, 16, 18]])"
      ]
     },
     "execution_count": 68,
     "metadata": {},
     "output_type": "execute_result"
    }
   ],
   "source": [
    "arreglo1 = np.array([[1,2,3],[4,5,6]])\n",
    "arreglo2 = np.array([[7,8,9],[10,11,12]])\n",
    "arreglo3 = arreglo1 + arreglo2\n",
    "arreglo3"
   ]
  },
  {
   "cell_type": "markdown",
   "id": "e0dbe6f2-9488-4349-acd4-a3004fe9ed06",
   "metadata": {},
   "source": [
    "##### Evaluacion de condiciones"
   ]
  },
  {
   "cell_type": "code",
   "execution_count": 72,
   "id": "b900015d-0b4e-4db4-8f0f-87e3827fdc31",
   "metadata": {},
   "outputs": [
    {
     "data": {
      "text/plain": [
       "array([[False, False,  True],\n",
       "       [ True,  True,  True]])"
      ]
     },
     "execution_count": 72,
     "metadata": {},
     "output_type": "execute_result"
    }
   ],
   "source": [
    "arreglo1 = np.array([[1,2,3],[4,5,6]])\n",
    "arreglo1 > 2"
   ]
  },
  {
   "cell_type": "markdown",
   "id": "061702b3-885d-4e34-a78d-3bddd4eadf51",
   "metadata": {},
   "source": [
    "##### Funciones que por naturaleza fueron diseñanadas para trabajar de manera unidimensional no vectorial\n",
    "##### Las Funciones de Python no estan vectorizadas de origen"
   ]
  },
  {
   "cell_type": "code",
   "execution_count": 114,
   "id": "33d4c8c3-0538-423c-86d0-96e56d35963b",
   "metadata": {},
   "outputs": [
    {
     "data": {
      "text/plain": [
       "False"
      ]
     },
     "execution_count": 114,
     "metadata": {},
     "output_type": "execute_result"
    }
   ],
   "source": [
    "arreglo = np.array([\"NumPy\",\"maneja\",\"vectorizacion\"])\n",
    "len(arreglo) > 5"
   ]
  },
  {
   "cell_type": "markdown",
   "id": "e7ac1fea-afd1-4a83-adc7-7b6fc846f4fd",
   "metadata": {},
   "source": [
    "##### Vectorizacion de funciones no vectorizadas de origen"
   ]
  },
  {
   "cell_type": "code",
   "execution_count": 116,
   "id": "133874cd-b076-41ef-85cc-5aa5e5b041b7",
   "metadata": {},
   "outputs": [
    {
     "data": {
      "text/plain": [
       "array([False,  True,  True])"
      ]
     },
     "execution_count": 116,
     "metadata": {},
     "output_type": "execute_result"
    }
   ],
   "source": [
    "len_vectorizada = np.vectorize(len)\n",
    "len_vectorizada(arreglo) > 5"
   ]
  },
  {
   "cell_type": "markdown",
   "id": "42116b43-cc36-40b7-b040-adb0247bf313",
   "metadata": {},
   "source": [
    "##### Broadcasting en renglones"
   ]
  },
  {
   "cell_type": "code",
   "execution_count": 122,
   "id": "f2cf79e0-6eca-4660-82eb-fb49794d4fca",
   "metadata": {},
   "outputs": [
    {
     "data": {
      "text/plain": [
       "array([[0, 1, 2, 3, 4],\n",
       "       [5, 6, 7, 8, 9]])"
      ]
     },
     "execution_count": 122,
     "metadata": {},
     "output_type": "execute_result"
    }
   ],
   "source": [
    "arreglo = np.arange(10).reshape((2,5))\n",
    "arreglo"
   ]
  },
  {
   "cell_type": "code",
   "execution_count": 124,
   "id": "71354328-3a20-49b2-8acf-4563f2bf7d6a",
   "metadata": {},
   "outputs": [
    {
     "data": {
      "text/plain": [
       "array([[ 0,  2,  4,  6,  8],\n",
       "       [ 5,  7,  9, 11, 13]])"
      ]
     },
     "execution_count": 124,
     "metadata": {},
     "output_type": "execute_result"
    }
   ],
   "source": [
    "arreglo + np.array([0,1,2,3,4])"
   ]
  },
  {
   "cell_type": "markdown",
   "id": "cb7c46e1-f42a-40cb-8421-c46c070f0205",
   "metadata": {},
   "source": [
    "##### Broadcasting en columnas"
   ]
  },
  {
   "cell_type": "code",
   "execution_count": 131,
   "id": "a9e427eb-60d2-4a6a-a2d8-951d4b6c0dd7",
   "metadata": {},
   "outputs": [
    {
     "data": {
      "text/plain": [
       "array([[ 0,  1,  2,  3,  4],\n",
       "       [ 6,  7,  8,  9, 10]])"
      ]
     },
     "execution_count": 131,
     "metadata": {},
     "output_type": "execute_result"
    }
   ],
   "source": [
    "arreglo = np.arange(10).reshape((2,5))\n",
    "arreglo + np.array([0,1]).reshape((2,1))"
   ]
  },
  {
   "cell_type": "markdown",
   "id": "8a8b47ad-de97-46b4-bd9d-5aa06c4decaa",
   "metadata": {},
   "source": [
    "##### Ejemplo de broadcasting donde la operacion NO es factible"
   ]
  },
  {
   "cell_type": "code",
   "execution_count": 134,
   "id": "c3d04e03-5b8f-4bcd-b02a-46e5d931cec5",
   "metadata": {},
   "outputs": [
    {
     "ename": "ValueError",
     "evalue": "operands could not be broadcast together with shapes (2,5) (2,) ",
     "output_type": "error",
     "traceback": [
      "\u001b[1;31m---------------------------------------------------------------------------\u001b[0m",
      "\u001b[1;31mValueError\u001b[0m                                Traceback (most recent call last)",
      "Cell \u001b[1;32mIn[134], line 1\u001b[0m\n\u001b[1;32m----> 1\u001b[0m arreglo \u001b[38;5;241m+\u001b[39m np\u001b[38;5;241m.\u001b[39marray([\u001b[38;5;241m0\u001b[39m,\u001b[38;5;241m1\u001b[39m])\n",
      "\u001b[1;31mValueError\u001b[0m: operands could not be broadcast together with shapes (2,5) (2,) "
     ]
    }
   ],
   "source": [
    "arreglo + np.array([0,1])"
   ]
  },
  {
   "cell_type": "markdown",
   "id": "cee35bdd-4339-48c1-b13b-600e369272fd",
   "metadata": {},
   "source": [
    "##### Voltear un arreglo"
   ]
  },
  {
   "cell_type": "code",
   "execution_count": 139,
   "id": "4c5b3d04-f788-4c5a-8970-71948c281ee6",
   "metadata": {},
   "outputs": [
    {
     "data": {
      "text/plain": [
       "array([[4.3, 4.2, 4.1],\n",
       "       [2.3, 2.2, 2.1],\n",
       "       [1.3, 1.2, 1.1]])"
      ]
     },
     "execution_count": 139,
     "metadata": {},
     "output_type": "execute_result"
    }
   ],
   "source": [
    "arreglo = np.array([[1.1,1.2,1.3],[2.1,2.2,2.3],[4.1,4.2,4.3]])\n",
    "np.flip(arreglo)"
   ]
  },
  {
   "cell_type": "markdown",
   "id": "8a28ac46-be34-4fa8-8d18-479e98709802",
   "metadata": {},
   "source": [
    "##### Transposicion de un arreglo "
   ]
  },
  {
   "cell_type": "code",
   "execution_count": 144,
   "id": "91781c9c-6c53-40bf-bd9a-3f00164df6c4",
   "metadata": {},
   "outputs": [
    {
     "data": {
      "text/plain": [
       "array([[1.1, 2.1, 4.1],\n",
       "       [1.2, 2.2, 4.2],\n",
       "       [1.3, 2.3, 4.3]])"
      ]
     },
     "execution_count": 144,
     "metadata": {},
     "output_type": "execute_result"
    }
   ],
   "source": [
    "arreglo = np.array([[1.1,1.2,1.3],[2.1,2.2,2.3],[4.1,4.2,4.3]])\n",
    "np.transpose(arreglo)"
   ]
  },
  {
   "cell_type": "code",
   "execution_count": 146,
   "id": "dcb016fe-cbc4-45bd-8037-3d46225917d5",
   "metadata": {},
   "outputs": [
    {
     "data": {
      "text/plain": [
       "array([[ 5, 10],\n",
       "       [30, 40]])"
      ]
     },
     "execution_count": 146,
     "metadata": {},
     "output_type": "execute_result"
    }
   ],
   "source": [
    "# Operacion 1 \n",
    "np.array([[1,2],[3,4]]) * np.array([[5],[10]])"
   ]
  },
  {
   "cell_type": "code",
   "execution_count": 148,
   "id": "d3c15402-1ce5-41dd-b7eb-ae79f2b9890c",
   "metadata": {},
   "outputs": [
    {
     "data": {
      "text/plain": [
       "array([[-4, -8],\n",
       "       [-2, -6]])"
      ]
     },
     "execution_count": 148,
     "metadata": {},
     "output_type": "execute_result"
    }
   ],
   "source": [
    "# Operacion 2\n",
    "np.array([[1,2],[3,4]]) - np.array([[5,10]])"
   ]
  },
  {
   "cell_type": "code",
   "execution_count": null,
   "id": "450a7289-5356-4bd0-8d78-253c677a7d53",
   "metadata": {},
   "outputs": [],
   "source": [
    "Que tal buen dia \n",
    "el motivo de este correo es para solicitar informacion a cerca de futuras vacantes de soporte de ventas en la sucursal de TLATL.\n",
    "Me llamo Eliuth Misraim Rojas Villavicencio y Provengo del estado de Tlaxcala pero actualmente me encuentro trabajando en el centro de distribucion en monterrey\n",
    "quisiera saber si tienen considerado abrir una vacante en dicha sucursal pues actualmente creo que seria una oportunidad que se adapta a mis planes de desarrollo\n",
    "Actualmente me encuentro trabajando en el area de Movimiento de Materiales pero cuento con un buen background en operaciones como Sorting, Shipping, Picking e Inventory \n",
    "creo que podria ser un candidato ideal para su sucursal y aportar gran valor al equipo \n",
    "Mis Superiores ya se encuentran al tanto de esta decision y estan en la mejor dispicion de recomendar mi trabajo\n",
    "de antemano muchas gracias"
   ]
  }
 ],
 "metadata": {
  "kernelspec": {
   "display_name": "Python 3 (ipykernel)",
   "language": "python",
   "name": "python3"
  },
  "language_info": {
   "codemirror_mode": {
    "name": "ipython",
    "version": 3
   },
   "file_extension": ".py",
   "mimetype": "text/x-python",
   "name": "python",
   "nbconvert_exporter": "python",
   "pygments_lexer": "ipython3",
   "version": "3.12.7"
  }
 },
 "nbformat": 4,
 "nbformat_minor": 5
}
