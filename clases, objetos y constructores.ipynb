{
 "cells": [
  {
   "cell_type": "markdown",
   "id": "dd084d11-1b8d-44e4-bc86-4866b9a0519b",
   "metadata": {},
   "source": [
    "Creacion de una nueva clase"
   ]
  },
  {
   "cell_type": "code",
   "execution_count": 3,
   "id": "f501f6aa-7c33-4cfa-bf54-302256df486c",
   "metadata": {},
   "outputs": [],
   "source": [
    "class Mi_clase:\n",
    "    pass"
   ]
  },
  {
   "cell_type": "code",
   "execution_count": 8,
   "id": "782a85ea-1d41-44de-a36a-b49d307356a8",
   "metadata": {},
   "outputs": [
    {
     "name": "stdout",
     "output_type": "stream",
     "text": [
      "5\n",
      "10\n"
     ]
    }
   ],
   "source": [
    "# Creacion de un nuevo objeto\n",
    "objeto = Mi_clase\n",
    "objeto.x = 5\n",
    "objeto.y = 10\n",
    "\n",
    "print(objeto.x)\n",
    "print(objeto.y)"
   ]
  },
  {
   "cell_type": "code",
   "execution_count": 10,
   "id": "c91c3daa-5b6b-4674-aac7-c97ef1065a01",
   "metadata": {},
   "outputs": [],
   "source": [
    "# Creacion de una nueva clase con atributos iniciales\n",
    "class Mi_clase:\n",
    "    x = 5\n",
    "    y = 10 "
   ]
  },
  {
   "cell_type": "code",
   "execution_count": 12,
   "id": "b0906493-1ec2-46a1-b4a6-025a2599da85",
   "metadata": {},
   "outputs": [
    {
     "name": "stdout",
     "output_type": "stream",
     "text": [
      "5\n",
      "10\n"
     ]
    }
   ],
   "source": [
    "objeto = Mi_clase()\n",
    "print(objeto.x)\n",
    "print(objeto.y)"
   ]
  },
  {
   "cell_type": "code",
   "execution_count": 14,
   "id": "1c9e7669-3bae-4525-9b34-7fe55069e8ac",
   "metadata": {},
   "outputs": [],
   "source": [
    "# Definicion de un metodo para una clase\n",
    "class Aviso:\n",
    "    def saludar(self):\n",
    "        print(\"¡hola, buen dia!\")"
   ]
  },
  {
   "cell_type": "code",
   "execution_count": 20,
   "id": "158d3212-ce1b-4936-91d8-e999fa3c8514",
   "metadata": {},
   "outputs": [
    {
     "name": "stdout",
     "output_type": "stream",
     "text": [
      "¡hola, buen dia!\n"
     ]
    }
   ],
   "source": [
    "# utilizar parentesis cuando hay definicion de funciones (\"Aviso()\")\n",
    "texto = Aviso()\n",
    "texto.saludar()"
   ]
  },
  {
   "cell_type": "code",
   "execution_count": 22,
   "id": "20f30aab-40b5-4936-a95b-55b4e1186147",
   "metadata": {},
   "outputs": [],
   "source": [
    "# Definicion de una clase para almacenar los datos de estudiantes\n",
    "class Estudiante:\n",
    "    def aprobado(self):\n",
    "        if self.calif >= 60:\n",
    "            return True\n",
    "        else:\n",
    "            return False"
   ]
  },
  {
   "cell_type": "code",
   "execution_count": 24,
   "id": "3e00374d-ce47-42b6-82e5-eca8291c3a52",
   "metadata": {},
   "outputs": [
    {
     "name": "stdout",
     "output_type": "stream",
     "text": [
      "True\n"
     ]
    }
   ],
   "source": [
    "estudiante1 = Estudiante()\n",
    "estudiante1.nombre = \"Juan\"\n",
    "estudiante1.calif = 80\n",
    "aprobo1 = estudiante1.aprobado()\n",
    "print(aprobo1)"
   ]
  },
  {
   "cell_type": "code",
   "execution_count": 30,
   "id": "44c96b6a-0c54-4b05-bd4a-266ab784cfd6",
   "metadata": {},
   "outputs": [
    {
     "name": "stdout",
     "output_type": "stream",
     "text": [
      "False\n"
     ]
    }
   ],
   "source": [
    "estudiante2 = Estudiante()\n",
    "estudiante2.nombre = \"Araceli\"\n",
    "estudiante2.calif = 50\n",
    "aprobo2 = estudiante2.aprobado()\n",
    "print(aprobo2)"
   ]
  },
  {
   "cell_type": "markdown",
   "id": "c94a6cc5-3826-4f01-bbab-1794537765d2",
   "metadata": {},
   "source": [
    "Constructores"
   ]
  },
  {
   "cell_type": "code",
   "execution_count": 33,
   "id": "05b100cf-2e2b-4d7f-9d49-ee91ed25e9e6",
   "metadata": {},
   "outputs": [],
   "source": [
    "# Manejo de Constructores\n",
    "class Estudiante:\n",
    "    def aprobado(self):\n",
    "        if self.calif >= 60:\n",
    "            return True\n",
    "        else:\n",
    "            return False\n",
    "            #este es el ejemplo de un constructor\n",
    "    def __init__(self, nombre, calif):\n",
    "        self.nombre = nombre\n",
    "        self.calif = calif"
   ]
  },
  {
   "cell_type": "code",
   "execution_count": 37,
   "id": "4c6b303d-b0d4-41bb-8e33-0745512d5787",
   "metadata": {},
   "outputs": [
    {
     "name": "stdout",
     "output_type": "stream",
     "text": [
      "Juan\n",
      "80\n"
     ]
    }
   ],
   "source": [
    "estudiante1 = Estudiante(\"Juan\",80)\n",
    "print(estudiante1.nombre)\n",
    "print(estudiante1.calif)"
   ]
  },
  {
   "cell_type": "code",
   "execution_count": 41,
   "id": "f481d0f5-a3d9-430c-9f21-b75c62895f3e",
   "metadata": {},
   "outputs": [
    {
     "name": "stdout",
     "output_type": "stream",
     "text": [
      "Araceli\n",
      "50\n"
     ]
    }
   ],
   "source": [
    "estudiante2 = Estudiante(\"Araceli\",50)\n",
    "print(estudiante2.nombre)\n",
    "print(estudiante2.calif)"
   ]
  },
  {
   "cell_type": "code",
   "execution_count": 49,
   "id": "968ce805-3218-4feb-99a2-4451b6597633",
   "metadata": {},
   "outputs": [
    {
     "name": "stdout",
     "output_type": "stream",
     "text": [
      "True\n",
      "False\n"
     ]
    }
   ],
   "source": [
    "aprobo1 = estudiante1.aprobado()\n",
    "aprobo2 = estudiante2.aprobado()\n",
    "print(aprobo1)\n",
    "print(aprobo2)"
   ]
  },
  {
   "cell_type": "code",
   "execution_count": 45,
   "id": "0306d339-0192-47e0-9649-92de2b521ef9",
   "metadata": {},
   "outputs": [],
   "source": []
  },
  {
   "cell_type": "code",
   "execution_count": null,
   "id": "a1eb6d86-3092-4d61-a177-8869a555dc56",
   "metadata": {},
   "outputs": [],
   "source": []
  }
 ],
 "metadata": {
  "kernelspec": {
   "display_name": "Python 3 (ipykernel)",
   "language": "python",
   "name": "python3"
  },
  "language_info": {
   "codemirror_mode": {
    "name": "ipython",
    "version": 3
   },
   "file_extension": ".py",
   "mimetype": "text/x-python",
   "name": "python",
   "nbconvert_exporter": "python",
   "pygments_lexer": "ipython3",
   "version": "3.12.7"
  }
 },
 "nbformat": 4,
 "nbformat_minor": 5
}
