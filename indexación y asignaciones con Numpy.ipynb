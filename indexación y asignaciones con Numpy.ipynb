{
 "cells": [
  {
   "cell_type": "code",
   "execution_count": 2,
   "id": "09aa6c72-5f7f-4aa7-9285-0195b3cc82d5",
   "metadata": {},
   "outputs": [],
   "source": [
    "import numpy as np"
   ]
  },
  {
   "cell_type": "code",
   "execution_count": 4,
   "id": "d38c36f2-b50b-4c2f-92c5-88ca34765ac9",
   "metadata": {},
   "outputs": [
    {
     "data": {
      "text/plain": [
       "array([0, 1, 2, 3, 4, 5, 6, 7, 8, 9])"
      ]
     },
     "execution_count": 4,
     "metadata": {},
     "output_type": "execute_result"
    }
   ],
   "source": [
    "# indexacion de un solo elemento\n",
    "x = np.arange(10)\n",
    "x"
   ]
  },
  {
   "cell_type": "code",
   "execution_count": 6,
   "id": "e8fa62a6-b747-4f15-8e8f-968bfa455baf",
   "metadata": {},
   "outputs": [
    {
     "data": {
      "text/plain": [
       "2"
      ]
     },
     "execution_count": 6,
     "metadata": {},
     "output_type": "execute_result"
    }
   ],
   "source": [
    "# Extraccion de elementos de forma ascendente\n",
    "x[2]"
   ]
  },
  {
   "cell_type": "code",
   "execution_count": 10,
   "id": "e63e162e-7e4b-434c-8974-da8a5ac72ec1",
   "metadata": {},
   "outputs": [
    {
     "data": {
      "text/plain": [
       "8"
      ]
     },
     "execution_count": 10,
     "metadata": {},
     "output_type": "execute_result"
    }
   ],
   "source": [
    "# Extraccion de elementos en forma ascendente \n",
    "x[-2]"
   ]
  },
  {
   "cell_type": "code",
   "execution_count": 12,
   "id": "c212c17d-6d94-4b4a-8d23-23e49efdeaab",
   "metadata": {},
   "outputs": [
    {
     "data": {
      "text/plain": [
       "array([[0, 1, 2, 3, 4],\n",
       "       [5, 6, 7, 8, 9]])"
      ]
     },
     "execution_count": 12,
     "metadata": {},
     "output_type": "execute_result"
    }
   ],
   "source": [
    "# Conversion del arreglo a formato bidimencional\n",
    "x.shape = (2,5)\n",
    "x"
   ]
  },
  {
   "cell_type": "code",
   "execution_count": 14,
   "id": "09c39a91-fbfe-437c-a537-61522d083d10",
   "metadata": {},
   "outputs": [
    {
     "data": {
      "text/plain": [
       "8"
      ]
     },
     "execution_count": 14,
     "metadata": {},
     "output_type": "execute_result"
    }
   ],
   "source": [
    "# Extraccion del elmento con indice 1 en renglon e indice 3 en columna \n",
    "x[1,3]"
   ]
  },
  {
   "cell_type": "code",
   "execution_count": 16,
   "id": "54e45fc7-e1bf-4935-a436-22227d267db0",
   "metadata": {},
   "outputs": [
    {
     "data": {
      "text/plain": [
       "8"
      ]
     },
     "execution_count": 16,
     "metadata": {},
     "output_type": "execute_result"
    }
   ],
   "source": [
    "# Alternativa de extraccion del elemento con indice 1 en renglon e indice 3 en columna \n",
    "x[1][3]"
   ]
  },
  {
   "cell_type": "code",
   "execution_count": 18,
   "id": "5b8691e1-3ce3-4993-b50d-a28fb490005b",
   "metadata": {},
   "outputs": [
    {
     "data": {
      "text/plain": [
       "9"
      ]
     },
     "execution_count": 18,
     "metadata": {},
     "output_type": "execute_result"
    }
   ],
   "source": [
    "# Extraccion del elemento con indice 1 en renglon y primer elemento en forma descendente \n",
    "x[1,-1]"
   ]
  },
  {
   "cell_type": "code",
   "execution_count": 20,
   "id": "c09b5574-c74c-4bc3-9b60-5f32d4a510b4",
   "metadata": {},
   "outputs": [
    {
     "data": {
      "text/plain": [
       "array([0, 1, 2, 3, 4])"
      ]
     },
     "execution_count": 20,
     "metadata": {},
     "output_type": "execute_result"
    }
   ],
   "source": [
    "# Extraccion del renglon completo con indice 0 (al no especificar indice de columna)\n",
    "x[0]"
   ]
  },
  {
   "cell_type": "code",
   "execution_count": 22,
   "id": "d895caf5-eac5-4779-b6cf-819cbff5232d",
   "metadata": {},
   "outputs": [
    {
     "data": {
      "text/plain": [
       "array([1, 3, 5])"
      ]
     },
     "execution_count": 22,
     "metadata": {},
     "output_type": "execute_result"
    }
   ],
   "source": [
    "# Cortes en arreglos \n",
    "x = np.array([0,1,2,3,4,5,6,7,8,9])\n",
    "x[1:7:2] # Formato \"start:stop:step\" \"inicio - final - pasos\""
   ]
  },
  {
   "cell_type": "code",
   "execution_count": 24,
   "id": "e0d45716-6d87-4475-8647-8ba294fe78ee",
   "metadata": {},
   "outputs": [
    {
     "data": {
      "text/plain": [
       "array([8, 9])"
      ]
     },
     "execution_count": 24,
     "metadata": {},
     "output_type": "execute_result"
    }
   ],
   "source": [
    "# Corte de arreglo de adelante hacia atras, considerando dos elementos\n",
    "x[-2:10]"
   ]
  },
  {
   "cell_type": "code",
   "execution_count": 26,
   "id": "65010d45-7916-4f14-bb01-734e43bb47f0",
   "metadata": {},
   "outputs": [
    {
     "data": {
      "text/plain": [
       "array([7, 6, 5, 4])"
      ]
     },
     "execution_count": 26,
     "metadata": {},
     "output_type": "execute_result"
    }
   ],
   "source": [
    "# Corte del arreglo de adelante hacia atras, iniciando tres posiciones a partir del final y retrociendiendo \n",
    "# hasta tener como limite el numero 3\n",
    "x[-3:3:-1]"
   ]
  },
  {
   "cell_type": "code",
   "execution_count": 32,
   "id": "6a9841dd-82fc-417d-86c9-5a243a3c7947",
   "metadata": {},
   "outputs": [
    {
     "data": {
      "text/plain": [
       "array([10,  9,  8,  7,  6,  5,  4,  3,  2])"
      ]
     },
     "execution_count": 32,
     "metadata": {},
     "output_type": "execute_result"
    }
   ],
   "source": [
    "# Definicion de un nuevo arreglo \n",
    "# Creacion de un arreglo en forma descendiente - Del 10 al 1 (sin incluirlo ) - decrementos \n",
    "x = np.arange(10,1,-1)\n",
    "x"
   ]
  },
  {
   "cell_type": "code",
   "execution_count": 34,
   "id": "f9744ad9-494f-4d92-a412-e14168edab29",
   "metadata": {},
   "outputs": [
    {
     "data": {
      "text/plain": [
       "array([7, 7, 9, 2])"
      ]
     },
     "execution_count": 34,
     "metadata": {},
     "output_type": "execute_result"
    }
   ],
   "source": [
    "# Extraccion de elementos especificos del arreglo \n",
    "x[np.array([3,3,1,8])] # Extraccion de elementos con indices 3,3,1,8"
   ]
  },
  {
   "cell_type": "code",
   "execution_count": 36,
   "id": "60782ff4-8d36-4bf0-b38a-fece9e404e70",
   "metadata": {},
   "outputs": [
    {
     "data": {
      "text/plain": [
       "array([7, 7, 4, 2])"
      ]
     },
     "execution_count": 36,
     "metadata": {},
     "output_type": "execute_result"
    }
   ],
   "source": [
    "# Extraccion de elemntos con indices 3,3,-3 (descendente) y 8 \n",
    "x[np.array([3,3,-3,8])]"
   ]
  },
  {
   "cell_type": "code",
   "execution_count": 38,
   "id": "108fa2c1-9d86-4332-8ea8-c1e2a5aee9f4",
   "metadata": {},
   "outputs": [
    {
     "data": {
      "text/plain": [
       "array([[ 0,  1,  2,  3,  4,  5,  6],\n",
       "       [ 7,  8,  9, 10, 11, 12, 13],\n",
       "       [14, 15, 16, 17, 18, 19, 20],\n",
       "       [21, 22, 23, 24, 25, 26, 27],\n",
       "       [28, 29, 30, 31, 32, 33, 34]])"
      ]
     },
     "execution_count": 38,
     "metadata": {},
     "output_type": "execute_result"
    }
   ],
   "source": [
    "# Extraccion basada en pares \n",
    "y = np.arange(35).reshape(5,7)\n",
    "y"
   ]
  },
  {
   "cell_type": "code",
   "execution_count": 40,
   "id": "bc911467-c5bd-4acf-9716-ac6bfda8e452",
   "metadata": {},
   "outputs": [
    {
     "data": {
      "text/plain": [
       "array([ 0, 15, 30])"
      ]
     },
     "execution_count": 40,
     "metadata": {},
     "output_type": "execute_result"
    }
   ],
   "source": [
    "# Extraccion de \"coordenadas\" (0,0), (2,1) y (4,2)\n",
    "y[np.array([0,2,4]), np.array([0,1,2])]"
   ]
  },
  {
   "cell_type": "markdown",
   "id": "86f96957-3d54-4858-accb-6463135c89c5",
   "metadata": {},
   "source": [
    "#### Union de Arreglos "
   ]
  },
  {
   "cell_type": "code",
   "execution_count": 43,
   "id": "0312c1e2-9b59-496e-9ab2-b29645254705",
   "metadata": {},
   "outputs": [
    {
     "data": {
      "text/plain": [
       "array([1, 2, 3, 4, 5, 6])"
      ]
     },
     "execution_count": 43,
     "metadata": {},
     "output_type": "execute_result"
    }
   ],
   "source": [
    "# Concatenacion de vectores \n",
    "arr = np.concatenate(([1,2,3],[4,5,6]))\n",
    "arr"
   ]
  },
  {
   "cell_type": "code",
   "execution_count": 45,
   "id": "d5d53bd2-024c-4db3-ad77-0e26819e1fd0",
   "metadata": {},
   "outputs": [
    {
     "data": {
      "text/plain": [
       "array([[1, 2, 3],\n",
       "       [4, 5, 6]])"
      ]
     },
     "execution_count": 45,
     "metadata": {},
     "output_type": "execute_result"
    }
   ],
   "source": [
    "# Apilado vertical de vectores\n",
    "np.stack(([1,2,3],[4,5,6]))"
   ]
  },
  {
   "cell_type": "code",
   "execution_count": 49,
   "id": "11522b13-7d7a-4d09-aeee-f76cb3e57c82",
   "metadata": {},
   "outputs": [
    {
     "data": {
      "text/plain": [
       "array([[1, 2, 3],\n",
       "       [4, 5, 6],\n",
       "       [1, 1, 1],\n",
       "       [2, 2, 2]])"
      ]
     },
     "execution_count": 49,
     "metadata": {},
     "output_type": "execute_result"
    }
   ],
   "source": [
    "# Concatenacion de matrices \n",
    "mat_1 = np.array([[1,2,3],[4,5,6]])\n",
    "mat_2 =np.array([[1,1,1],[2,2,2]])\n",
    "np.concatenate((mat_1, mat_2), axis = 0) "
   ]
  },
  {
   "cell_type": "code",
   "execution_count": 51,
   "id": "a3dd7b23-a0d5-47a3-8ded-6392aaf81b34",
   "metadata": {},
   "outputs": [
    {
     "data": {
      "text/plain": [
       "array([[1, 2, 3, 1, 1, 1],\n",
       "       [4, 5, 6, 2, 2, 2]])"
      ]
     },
     "execution_count": 51,
     "metadata": {},
     "output_type": "execute_result"
    }
   ],
   "source": [
    "np.concatenate((mat_1, mat_2), axis = 1)"
   ]
  },
  {
   "cell_type": "code",
   "execution_count": 53,
   "id": "ffa869eb-7ce9-4e73-a4cb-70b7becd20e2",
   "metadata": {},
   "outputs": [
    {
     "data": {
      "text/plain": [
       "array([1, 2, 3, 4, 5, 6, 1, 1, 1, 2, 2, 2])"
      ]
     },
     "execution_count": 53,
     "metadata": {},
     "output_type": "execute_result"
    }
   ],
   "source": [
    "np.concatenate((mat_1, mat_2), axis = None)"
   ]
  },
  {
   "cell_type": "markdown",
   "id": "aeff573c-10b1-4234-955c-6e59a5f95e2c",
   "metadata": {},
   "source": [
    "##### 1. Operaciones básicas con matrices"
   ]
  },
  {
   "cell_type": "code",
   "execution_count": 55,
   "id": "6f60a8b2-7b14-4df7-9517-ebe6aabbc478",
   "metadata": {},
   "outputs": [
    {
     "name": "stdout",
     "output_type": "stream",
     "text": [
      "Suma de matrices:\n",
      "[[10 10 10]\n",
      " [10 10 10]\n",
      " [10 10 10]]\n",
      "\n",
      "Resta de matrices:\n",
      "[[-8 -6 -4]\n",
      " [-2  0  2]\n",
      " [ 4  6  8]]\n"
     ]
    }
   ],
   "source": [
    "import numpy as np\n",
    "\n",
    "# Crear dos matrices\n",
    "\n",
    "matriz1 = np.array([[1, 2, 3], [4, 5, 6], [7, 8, 9]])\n",
    "\n",
    "matriz2 = np.array([[9, 8, 7], [6, 5, 4], [3, 2, 1]])\n",
    "\n",
    "# Sumar y restar matrices\n",
    "\n",
    "suma = matriz1 + matriz2\n",
    "\n",
    "resta = matriz1 - matriz2\n",
    "\n",
    "print(\"Suma de matrices:\")\n",
    "\n",
    "print(suma)\n",
    "\n",
    "print(\"\\nResta de matrices:\")\n",
    "\n",
    "print(resta)"
   ]
  },
  {
   "cell_type": "markdown",
   "id": "8d631782-e6d4-49d0-a4f2-3c2152a27bbd",
   "metadata": {},
   "source": [
    "##### 2. Filtrar datos usando máscaras"
   ]
  },
  {
   "cell_type": "code",
   "execution_count": 59,
   "id": "01e813b5-f9d8-470c-a068-913b05fddaad",
   "metadata": {},
   "outputs": [
    {
     "name": "stdout",
     "output_type": "stream",
     "text": [
      "Datos originales: [10 15 20 25 30 35 40]\n",
      "Datos mayores a 20: [25 30 35 40]\n"
     ]
    }
   ],
   "source": [
    "# Crear un arreglo con datos\n",
    "\n",
    "datos = np.array([10, 15, 20, 25, 30, 35, 40])\n",
    "\n",
    "# Filtrar elementos mayores a 20\n",
    "\n",
    "filtro = datos > 20\n",
    "\n",
    "datos_filtrados = datos[filtro]\n",
    "\n",
    "print(\"Datos originales:\", datos)\n",
    "\n",
    "print(\"Datos mayores a 20:\", datos_filtrados)"
   ]
  },
  {
   "cell_type": "markdown",
   "id": "7aca78e6-59c5-4afc-bd61-0ef064c4368a",
   "metadata": {},
   "source": [
    "##### 3. Normalización de datos en una matriz"
   ]
  },
  {
   "cell_type": "code",
   "execution_count": 62,
   "id": "3a08e19d-79d9-489f-b756-f9f0f884f866",
   "metadata": {},
   "outputs": [
    {
     "name": "stdout",
     "output_type": "stream",
     "text": [
      "Matriz original:\n",
      "[[74 73 79 75]\n",
      " [98 57 98 81]\n",
      " [84 94 76 52]\n",
      " [52 81 81 87]]\n",
      "\n",
      "Matriz normalizada:\n",
      "[[0.47826087 0.43243243 0.13636364 0.65714286]\n",
      " [1.         0.         1.         0.82857143]\n",
      " [0.69565217 1.         0.         0.        ]\n",
      " [0.         0.64864865 0.22727273 1.        ]]\n"
     ]
    }
   ],
   "source": [
    "# Crear una matriz con datos simulados\n",
    "\n",
    "matriz = np.random.randint(50, 100, size=(4, 4))\n",
    "\n",
    "# Normalizar los datos por columna\n",
    "\n",
    "matriz_normalizada = (matriz - np.min(matriz, axis=0)) / (np.max(matriz, axis=0) - np.min(matriz, axis=0))\n",
    "\n",
    "print(\"Matriz original:\")\n",
    "\n",
    "print(matriz)\n",
    "\n",
    "print(\"\\nMatriz normalizada:\")\n",
    "\n",
    "print(matriz_normalizada)"
   ]
  },
  {
   "cell_type": "markdown",
   "id": "0b43543f-8e26-4d37-89b7-dccf81523f52",
   "metadata": {},
   "source": [
    "##### 4. Generar secuencias y manipulación de forma"
   ]
  },
  {
   "cell_type": "code",
   "execution_count": 65,
   "id": "28986a24-23e1-4b67-b090-95993b60e0a5",
   "metadata": {},
   "outputs": [
    {
     "name": "stdout",
     "output_type": "stream",
     "text": [
      "Matriz original:\n",
      "[[ 1  2  3  4]\n",
      " [ 5  6  7  8]\n",
      " [ 9 10 11 12]]\n",
      "\n",
      "Matriz transpuesta:\n",
      "[[ 1  5  9]\n",
      " [ 2  6 10]\n",
      " [ 3  7 11]\n",
      " [ 4  8 12]]\n"
     ]
    }
   ],
   "source": [
    "# Crear una secuencia de números\n",
    "\n",
    "arreglo = np.arange(1, 13)\n",
    "\n",
    "# Reestructurarlo como una matriz de 3x4\n",
    "\n",
    "matriz = arreglo.reshape(3, 4)\n",
    "\n",
    "# Transponer la matriz\n",
    "\n",
    "transpuesta = matriz.T\n",
    "\n",
    "print(\"Matriz original:\")\n",
    "\n",
    "print(matriz)\n",
    "\n",
    "print(\"\\nMatriz transpuesta:\")\n",
    "\n",
    "print(transpuesta)"
   ]
  },
  {
   "cell_type": "markdown",
   "id": "160cb8f1-7ef3-4157-9a5f-809f9c58522e",
   "metadata": {},
   "source": [
    "##### 5. Estadísticas descriptivas en una matriz"
   ]
  },
  {
   "cell_type": "code",
   "execution_count": 68,
   "id": "46cd8d4f-a9ea-460f-a036-6aa2e7b57656",
   "metadata": {},
   "outputs": [
    {
     "name": "stdout",
     "output_type": "stream",
     "text": [
      "Matriz de calificaciones:\n",
      "[[71 52  4 36]\n",
      " [82 95  5 79]\n",
      " [74 55 21 11]\n",
      " [93 34 13 60]\n",
      " [73 66 64 63]]\n",
      "\n",
      "Promedio por estudiante: [40.75 65.25 40.25 50.   66.5 ]\n",
      "Promedio por materia: [78.6 60.4 21.4 49.8]\n",
      "Máximo por materia: [93 95 64 79]\n"
     ]
    }
   ],
   "source": [
    "# Crear una matriz con datos simulados\n",
    "\n",
    "datos = np.random.randint(1, 101, size=(5, 4)) # 5 estudiantes, 4 materias\n",
    "\n",
    "# Calcular estadísticas por estudiante y por materia\n",
    "\n",
    "promedio_por_estudiante = np.mean(datos, axis=1)\n",
    "\n",
    "promedio_por_materia = np.mean(datos, axis=0)\n",
    "\n",
    "maximo_por_materia = np.max(datos, axis=0)\n",
    "\n",
    "print(\"Matriz de calificaciones:\")\n",
    "\n",
    "print(datos)\n",
    "\n",
    "print(\"\\nPromedio por estudiante:\", promedio_por_estudiante)\n",
    "\n",
    "print(\"Promedio por materia:\", promedio_por_materia)\n",
    "\n",
    "print(\"Máximo por materia:\", maximo_por_materia)"
   ]
  },
  {
   "cell_type": "markdown",
   "id": "1dedf1bc-cba9-424d-92f4-03ecb00ef2c3",
   "metadata": {},
   "source": [
    "##### 6. Producto punto y multiplicación de matrices"
   ]
  },
  {
   "cell_type": "code",
   "execution_count": 71,
   "id": "1dd2528d-0e8d-4f73-90ac-18dba6c30195",
   "metadata": {},
   "outputs": [
    {
     "name": "stdout",
     "output_type": "stream",
     "text": [
      "Producto elemento a elemento:\n",
      "[[ 5 12]\n",
      " [21 32]]\n",
      "\n",
      "Producto punto:\n",
      "[[19 22]\n",
      " [43 50]]\n"
     ]
    }
   ],
   "source": [
    "# Crear dos matrices\n",
    "\n",
    "matriz1 = np.array([[1, 2], [3, 4]])\n",
    "\n",
    "matriz2 = np.array([[5, 6], [7, 8]])\n",
    "\n",
    "# Producto elemento a elemento\n",
    "\n",
    "producto_elemento = matriz1 * matriz2\n",
    "\n",
    "# Producto punto\n",
    "\n",
    "producto_punto = np.dot(matriz1, matriz2)\n",
    "\n",
    "print(\"Producto elemento a elemento:\")\n",
    "\n",
    "print(producto_elemento)\n",
    "\n",
    "print(\"\\nProducto punto:\")\n",
    "\n",
    "print(producto_punto)"
   ]
  },
  {
   "cell_type": "markdown",
   "id": "c140b5e5-cfdd-4afc-8d81-6997d23895ef",
   "metadata": {},
   "source": [
    "##### 7. Simular datos de ingresos y analizar rangos"
   ]
  },
  {
   "cell_type": "code",
   "execution_count": 74,
   "id": "f4763d96-825d-4c3e-85d0-c8f337c79080",
   "metadata": {},
   "outputs": [
    {
     "name": "stdout",
     "output_type": "stream",
     "text": [
      "Ingresos mensuales: [48300 38199 37377 63843 76165 25814 74188 22445 32157 32665 60898 63187]\n",
      "\n",
      "Ingreso promedio: 47936.5\n",
      "Meses con ingresos altos (> 50,000): [63843 76165 74188 60898 63187]\n",
      "Meses con ingresos bajos (< 30,000): [25814 22445]\n"
     ]
    }
   ],
   "source": [
    "# Crear datos simulados de ingresos mensuales\n",
    "\n",
    "ingresos = np.random.randint(20000, 80000, size=12)\n",
    "\n",
    "# Calcular estadísticas\n",
    "\n",
    "ingreso_promedio = np.mean(ingresos)\n",
    "\n",
    "ingresos_altos = ingresos[ingresos > 50000]\n",
    "\n",
    "ingresos_bajos = ingresos[ingresos < 30000]\n",
    "\n",
    "print(\"Ingresos mensuales:\", ingresos)\n",
    "\n",
    "print(\"\\nIngreso promedio:\", ingreso_promedio)\n",
    "\n",
    "print(\"Meses con ingresos altos (> 50,000):\", ingresos_altos)\n",
    "\n",
    "print(\"Meses con ingresos bajos (< 30,000):\", ingresos_bajos)"
   ]
  },
  {
   "cell_type": "markdown",
   "id": "210db8b1-e2e0-4dee-af99-e625809f8753",
   "metadata": {},
   "source": [
    "##### 8. Operaciones avanzadas con álgebra lineal"
   ]
  },
  {
   "cell_type": "code",
   "execution_count": 77,
   "id": "725d04fe-0e0a-4d9b-a4d7-d9ccf37c9012",
   "metadata": {},
   "outputs": [
    {
     "name": "stdout",
     "output_type": "stream",
     "text": [
      "Matriz original:\n",
      "[[4 2]\n",
      " [1 3]]\n",
      "\n",
      "Inversa de la matriz:\n",
      "[[ 0.3 -0.2]\n",
      " [-0.1  0.4]]\n",
      "\n",
      "Determinante de la matriz: 10.000000000000002\n",
      "\n",
      "Verificación (matriz identidad):\n",
      "[[ 1.00000000e+00  0.00000000e+00]\n",
      " [-5.55111512e-17  1.00000000e+00]]\n"
     ]
    }
   ],
   "source": [
    "# Crear una matriz cuadrada\n",
    "\n",
    "matriz = np.array([[4, 2], [1, 3]])\n",
    "\n",
    "# Calcular la inversa y el determinante\n",
    "\n",
    "inversa = np.linalg.inv(matriz)\n",
    "\n",
    "determinante = np.linalg.det(matriz)\n",
    "\n",
    "# Verificar si la multiplicación con su inversa produce la matriz identidad\n",
    "\n",
    "identidad = np.dot(matriz, inversa)\n",
    "\n",
    "print(\"Matriz original:\")\n",
    "\n",
    "print(matriz)\n",
    "\n",
    "print(\"\\nInversa de la matriz:\")\n",
    "\n",
    "print(inversa)\n",
    "\n",
    "print(\"\\nDeterminante de la matriz:\", determinante)\n",
    "\n",
    "print(\"\\nVerificación (matriz identidad):\")\n",
    "\n",
    "print(identidad)"
   ]
  },
  {
   "cell_type": "code",
   "execution_count": null,
   "id": "0fa99db1-fddf-4008-8b8d-f26668627d05",
   "metadata": {},
   "outputs": [],
   "source": []
  }
 ],
 "metadata": {
  "kernelspec": {
   "display_name": "Python 3 (ipykernel)",
   "language": "python",
   "name": "python3"
  },
  "language_info": {
   "codemirror_mode": {
    "name": "ipython",
    "version": 3
   },
   "file_extension": ".py",
   "mimetype": "text/x-python",
   "name": "python",
   "nbconvert_exporter": "python",
   "pygments_lexer": "ipython3",
   "version": "3.12.7"
  }
 },
 "nbformat": 4,
 "nbformat_minor": 5
}
